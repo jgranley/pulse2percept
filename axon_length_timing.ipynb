{
 "cells": [
  {
   "cell_type": "markdown",
   "metadata": {},
   "source": [
    "## Utils"
   ]
  },
  {
   "cell_type": "code",
   "execution_count": 1,
   "metadata": {},
   "outputs": [],
   "source": [
    "import time\n",
    "import random\n",
    "from pulse2percept.stimuli import Stimulus, BiphasicPulseTrain\n",
    "\n",
    "def rand_stim(implant, n_electrodes=1):\n",
    "    maxamp = 15\n",
    "    maxfreq = 200\n",
    "    elecs = set()\n",
    "    while len(elecs) < n_electrodes:\n",
    "        # add another electrode\n",
    "        elecs.add(random.choice(list(implant.electrode_names)))\n",
    "    stim = {}\n",
    "    for elec in elecs:\n",
    "        amp = random.random() * maxamp\n",
    "        freq = random.random() * maxfreq\n",
    "        pdur = random.expovariate(1)\n",
    "        while pdur > 1000 / freq / 2 or pdur < 0.01 or pdur > 100:\n",
    "            pdur = random.expovariate(1)\n",
    "        stim[elec] = BiphasicPulseTrain(freq, amp, pdur, stim_dur=250)\n",
    "    stimulus = Stimulus(stim)\n",
    "    return stimulus\n"
   ]
  },
  {
   "cell_type": "code",
   "execution_count": 2,
   "metadata": {},
   "outputs": [],
   "source": [
    "def time_constant(model, implant, n_elecs=1, n_samples=10, stim_func=rand_stim):\n",
    "    total_time = 0\n",
    "    for i in range(n_samples):\n",
    "        try:\n",
    "            stim = stim_func(implant, n_electrodes=n_elecs)\n",
    "            implant.stim = stim\n",
    "            start = time.time()\n",
    "            percept = model.predict_percept(implant)\n",
    "            end = time.time()\n",
    "            total_time += end - start\n",
    "        except Exception as e:\n",
    "            print(e)\n",
    "            print((freq, amp, pdur))\n",
    "            continue\n",
    "    print(\"Average prediction time (%d electrodes): %.2fms\" % (n_elecs, total_time / n_samples * 1000))\n",
    "    print(\"Average prediction time per electrode: %.2fms\" % (total_time / n_samples * 1000 / n_elecs))\n",
    "    return total_time / n_samples * 1000"
   ]
  },
  {
   "cell_type": "code",
   "execution_count": 3,
   "metadata": {},
   "outputs": [],
   "source": [
    "def time_random(model, implant, max_elecs=30, n_samples=20, stim_func=rand_stim, plot=False):\n",
    "    times = []\n",
    "    elec_counts = []\n",
    "    for i in range(n_samples):\n",
    "        try:\n",
    "            n_elecs = random.randint(1, max_elecs)\n",
    "            stim = stim_func(implant, n_electrodes=n_elecs)\n",
    "            implant.stim = stim\n",
    "            start = time.time()\n",
    "            percept = model.predict_percept(implant)\n",
    "            end = time.time()\n",
    "            times.append(end - start)\n",
    "            elec_counts.append(n_elecs)\n",
    "        except ValueError as e:\n",
    "            print(e)\n",
    "            print((freq, amp, pdur))\n",
    "            continue\n",
    "    print(\"Average prediction time (%d electrodes): %.2fms\" % (n_elecs, sum(times) / n_samples * 1000))\n",
    "    print(\"Average prediction time per electrode: %.2fms\" % (sum(times) / sum(elec_counts) * 1000))\n",
    "    \n",
    "    if plot:\n",
    "        n, t = zip(*sorted(zip(elec_counts, times)))\n",
    "        plt.plot(n, t)\n",
    "    \n",
    "    return sum(times) / n_samples * 1000\n",
    "    "
   ]
  },
  {
   "cell_type": "markdown",
   "metadata": {},
   "source": [
    "## Testing"
   ]
  },
  {
   "cell_type": "code",
   "execution_count": 4,
   "metadata": {},
   "outputs": [],
   "source": [
    "from pulse2percept.models import AxonMapModel\n",
    "from pulse2percept.implants import ArgusII, DiskElectrode, ProsthesisSystem\n",
    "from pulse2percept.stimuli import BiphasicPulseTrain\n",
    "\n",
    "import numpy as np\n",
    "import matplotlib.pyplot as plt"
   ]
  },
  {
   "cell_type": "markdown",
   "metadata": {},
   "source": [
    "### Original (Cython, variable length axons)"
   ]
  },
  {
   "cell_type": "markdown",
   "metadata": {},
   "source": [
    "#### Axon Map"
   ]
  },
  {
   "cell_type": "code",
   "execution_count": 5,
   "metadata": {},
   "outputs": [],
   "source": [
    "model = AxonMapModel()\n",
    "model.build()\n",
    "implant = ArgusII(rot=45)"
   ]
  },
  {
   "cell_type": "code",
   "execution_count": 6,
   "metadata": {},
   "outputs": [
    {
     "name": "stdout",
     "output_type": "stream",
     "text": [
      "Average prediction time (1 electrodes): 1213.26ms\n"
     ]
    },
    {
     "ename": "TypeError",
     "evalue": "not all arguments converted during string formatting",
     "output_type": "error",
     "traceback": [
      "\u001b[1;31m---------------------------------------------------------------------------\u001b[0m",
      "\u001b[1;31mTypeError\u001b[0m                                 Traceback (most recent call last)",
      "\u001b[1;32m<ipython-input-6-edcd0b7521be>\u001b[0m in \u001b[0;36m<module>\u001b[1;34m\u001b[0m\n\u001b[1;32m----> 1\u001b[1;33m \u001b[0mtime_constant\u001b[0m\u001b[1;33m(\u001b[0m\u001b[0mmodel\u001b[0m\u001b[1;33m,\u001b[0m \u001b[0mimplant\u001b[0m\u001b[1;33m,\u001b[0m \u001b[0mn_elecs\u001b[0m\u001b[1;33m=\u001b[0m\u001b[1;36m1\u001b[0m\u001b[1;33m,\u001b[0m \u001b[0mn_samples\u001b[0m\u001b[1;33m=\u001b[0m\u001b[1;36m20\u001b[0m\u001b[1;33m)\u001b[0m\u001b[1;33m\u001b[0m\u001b[1;33m\u001b[0m\u001b[0m\n\u001b[0m\u001b[0;32m      2\u001b[0m \u001b[0mtime_constant\u001b[0m\u001b[1;33m(\u001b[0m\u001b[0mmodel\u001b[0m\u001b[1;33m,\u001b[0m \u001b[0mimplant\u001b[0m\u001b[1;33m,\u001b[0m \u001b[0mn_elecs\u001b[0m\u001b[1;33m=\u001b[0m\u001b[1;36m15\u001b[0m\u001b[1;33m,\u001b[0m \u001b[0mn_samples\u001b[0m\u001b[1;33m=\u001b[0m\u001b[1;36m2\u001b[0m\u001b[1;33m)\u001b[0m\u001b[1;33m\u001b[0m\u001b[1;33m\u001b[0m\u001b[0m\n",
      "\u001b[1;32m<ipython-input-2-383dd7610f71>\u001b[0m in \u001b[0;36mtime_constant\u001b[1;34m(model, implant, n_elecs, n_samples, stim_func)\u001b[0m\n\u001b[0;32m     14\u001b[0m             \u001b[1;32mcontinue\u001b[0m\u001b[1;33m\u001b[0m\u001b[1;33m\u001b[0m\u001b[0m\n\u001b[0;32m     15\u001b[0m     \u001b[0mprint\u001b[0m\u001b[1;33m(\u001b[0m\u001b[1;34m\"Average prediction time (%d electrodes): %.2fms\"\u001b[0m \u001b[1;33m%\u001b[0m \u001b[1;33m(\u001b[0m\u001b[0mn_elecs\u001b[0m\u001b[1;33m,\u001b[0m \u001b[0mtotal_time\u001b[0m \u001b[1;33m/\u001b[0m \u001b[0mn_samples\u001b[0m \u001b[1;33m*\u001b[0m \u001b[1;36m1000\u001b[0m\u001b[1;33m)\u001b[0m\u001b[1;33m)\u001b[0m\u001b[1;33m\u001b[0m\u001b[1;33m\u001b[0m\u001b[0m\n\u001b[1;32m---> 16\u001b[1;33m     \u001b[0mprint\u001b[0m\u001b[1;33m(\u001b[0m\u001b[1;34m\"Average prediction time per electrode: %.2fms\"\u001b[0m \u001b[1;33m%\u001b[0m \u001b[1;33m(\u001b[0m\u001b[0mn_elecs\u001b[0m\u001b[1;33m,\u001b[0m \u001b[0mtotal_time\u001b[0m \u001b[1;33m/\u001b[0m \u001b[0mn_samples\u001b[0m \u001b[1;33m*\u001b[0m \u001b[1;36m1000\u001b[0m \u001b[1;33m/\u001b[0m \u001b[0mn_elecs\u001b[0m\u001b[1;33m)\u001b[0m\u001b[1;33m)\u001b[0m\u001b[1;33m\u001b[0m\u001b[1;33m\u001b[0m\u001b[0m\n\u001b[0m\u001b[0;32m     17\u001b[0m     \u001b[1;32mreturn\u001b[0m \u001b[0mtotal_time\u001b[0m \u001b[1;33m/\u001b[0m \u001b[0mn_samples\u001b[0m \u001b[1;33m*\u001b[0m \u001b[1;36m1000\u001b[0m\u001b[1;33m\u001b[0m\u001b[1;33m\u001b[0m\u001b[0m\n",
      "\u001b[1;31mTypeError\u001b[0m: not all arguments converted during string formatting"
     ]
    }
   ],
   "source": [
    "time_constant(model, implant, n_elecs=1, n_samples=20)\n",
    "time_constant(model, implant, n_elecs=15, n_samples=2)"
   ]
  },
  {
   "cell_type": "code",
   "execution_count": null,
   "metadata": {},
   "outputs": [],
   "source": [
    "xysteps = []\n",
    "fig, ax = plt.subplots(1, 1, figsize=(10, 10))\n",
    "for n_elecs in [1, 15]:\n",
    "    times = []\n",
    "    n_points = []\n",
    "    sizes = []\n",
    "    for step in xysteps:\n",
    "        model = AxonMapModel(xystep=step, xrange=(), yrange=())\n",
    "        model.build()\n",
    "        implant = ArgusII(rot=45)\n",
    "        times.append(time_constant(model, implant, n_samples=1, n_elecs=n_elecs))\n",
    "        sizes.append((len(model.grid.xret), len(model.grid.yret)))\n",
    "        n_points.append(len(model.grid.xret) * len(model.grid.yret))\n",
    "    ax.plot(n_points, times, label=str(n_elecs))\n",
    "    ax.set_xticks(n_points, [str(n_points[i]) + \":\" + str(sizes[i]) for i in range(len(sizes))])\n",
    "    ax.set_xlabel(\"Grid Size\")\n",
    "    ax.set_ylabel(\"Average Prediction Time\")\n",
    "    \n",
    "fig.show()\n",
    "    "
   ]
  },
  {
   "cell_type": "markdown",
   "metadata": {},
   "source": [
    "#### Biphasic Axon Map"
   ]
  },
  {
   "cell_type": "code",
   "execution_count": null,
   "metadata": {},
   "outputs": [],
   "source": [
    "from pulse2percept.models import BiphasicAxonMapModel"
   ]
  },
  {
   "cell_type": "code",
   "execution_count": null,
   "metadata": {},
   "outputs": [],
   "source": [
    "model = BiphasicAxonMapModel()\n",
    "model.build()\n",
    "implant = ArgusII(rot=45)"
   ]
  },
  {
   "cell_type": "code",
   "execution_count": null,
   "metadata": {},
   "outputs": [],
   "source": []
  }
 ],
 "metadata": {
  "kernelspec": {
   "display_name": "Python 3",
   "language": "python",
   "name": "python3"
  },
  "language_info": {
   "codemirror_mode": {
    "name": "ipython",
    "version": 3
   },
   "file_extension": ".py",
   "mimetype": "text/x-python",
   "name": "python",
   "nbconvert_exporter": "python",
   "pygments_lexer": "ipython3",
   "version": "3.8.5"
  }
 },
 "nbformat": 4,
 "nbformat_minor": 4
}
