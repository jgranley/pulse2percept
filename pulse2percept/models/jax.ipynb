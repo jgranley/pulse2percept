{
 "cells": [
  {
   "cell_type": "code",
   "execution_count": 1,
   "metadata": {
    "id": "1K1hFCo6aQG7"
   },
   "outputs": [
    {
     "data": {
      "text/plain": [
       "[GpuDevice(id=0, process_index=0)]"
      ]
     },
     "execution_count": 1,
     "metadata": {},
     "output_type": "execute_result"
    }
   ],
   "source": [
    "from pulse2percept.models import AxonMapModel, BiphasicAxonMapModel, BiphasicAxonMapSpatial, Model, AxonMapSpatial\n",
    "from pulse2percept.stimuli import Stimulus, BiphasicPulseTrain\n",
    "from pulse2percept.implants import DiskElectrode, ProsthesisSystem, ArgusII, ElectrodeArray\n",
    "\n",
    "import numpy as np\n",
    "import os\n",
    "os.environ[\"CUDA_VISIBLE_DEVICES\"]=\"0\"\n",
    "os.environ[\"JAX_LOG_COMPILES\"] = \"True\"\n",
    "import jax.numpy as jnp\n",
    "import jax\n",
    "from jax import jit, partial, vmap\n",
    "jax.devices()"
   ]
  },
  {
   "cell_type": "markdown",
   "metadata": {
    "id": "t4wWbJMK_78O"
   },
   "source": [
    "## Where the magic happens (Jax predict_percept())"
   ]
  },
  {
   "cell_type": "code",
   "execution_count": 2,
   "metadata": {},
   "outputs": [],
   "source": [
    "# NEW jax copy\n",
    "\n",
    "def predict_one_segment(axon_segment, brights, sizes, streaks, x, y, rho, axlambda):\n",
    "    d2_el = (axon_segment[0, None] - x)**2 + (axon_segment[1, None] - y)**2\n",
    "    intensity = brights * jnp.exp(-d2_el / (2. * rho**2 * sizes)) * (axon_segment[2] ** 1./streaks)\n",
    "    return jnp.sum(intensity)\n",
    "\n",
    "\n",
    "# also vmap over simulated points\n",
    "def predict_one_point(axon, brights, sizes, streaks, x, y, rho, axlambda):\n",
    "#     d2_el = (axon[:, 0, None] - x)**2 + (axon[:, 1, None] - y)**2\n",
    "#     intensities = brights * np.exp(-d2_el / (2. * rho**2 * sizes)) * (axon[:, 2, None] ** (1./streaks))\n",
    "#     return jnp.max(np.sum(intensities, axis=1))\n",
    "    intensities = jit(vmap(predict_one_segment, in_axes=[0, None, None, None, None, None, None, None]), static_argnums=[6,7])(axon, brights, sizes, streaks, x, y, rho, axlambda)\n",
    "    return jnp.max(intensities)\n",
    "def gpu_biphasic_axon_map(params, # Per ACTIVE electrode, (amp, freq, pdur, x, y)\n",
    "                          axon_segments, rho, axlambda, thresh_percept):\n",
    "    deg2rad = 3.14159265358979323846 / 180.0\n",
    "\n",
    "#     n_space = len(axon_segments)\n",
    "\n",
    "    min_size = 10**2 / rho**2\n",
    "    min_streak = 10**2 / axlambda **2\n",
    "\n",
    "    # First get contributions from F, G, H per electrode\n",
    "    scaled_amps = params[0] / (0.8825 + 0.27*params[2])\n",
    "    brights = 1.84*scaled_amps + 0.2*params[1] + 2.0986\n",
    "    sizes = jnp.maximum(1.081*scaled_amps - 0.3533764, min_size)\n",
    "    streaks = jnp.maximum(1.56 - 0.54 * params[2] ** 0.21, min_streak)\n",
    "\n",
    "    # axon_segments is (n_space, axon_length, 3), x and y are (n_elec)\n",
    "    d2_el = (axon_segments[:, :, 0, None] - params[3])**2 + (axon_segments[:, :, 1, None] - params[4])**2\n",
    "    # (n_space, axon_length, n_elecs)\n",
    "    \n",
    "    #                       (n_elecs) (n_space, axon_length, n_elecs)            (n_space, axon_length, n_elecs) \n",
    "    electrode_intensities = brights * jnp.exp(-d2_el / ( 2. * rho**2. * sizes)) * (axon_segments[:, :, 2, None] ** (1. / streaks))\n",
    "    # (n_space, axon_length, n_elecs)\n",
    "    \n",
    "#     axon_intensities = \n",
    "    # (n_space, n_elecs)\n",
    "    I = jnp.max(jnp.sum(electrode_intensities, axis=2), axis=1)\n",
    "    \n",
    "    \n",
    "#     I = jit(vmap(predict_one_point, in_axes=[0, None, None, None, None, None, None, None]), static_argnums=[6, 7])(axon_segments, brights, sizes, streaks, params[3], params[4], rho, axlambda)\n",
    "#     I = (I > thresh_percept) * I\n",
    "    return I\n",
    "\n"
   ]
  },
  {
   "cell_type": "markdown",
   "metadata": {},
   "source": [
    "## Try again but this time push max operation to the end"
   ]
  },
  {
   "cell_type": "code",
   "execution_count": 2,
   "metadata": {},
   "outputs": [],
   "source": [
    "# def predict_one_segment(axon_segment, brights, sizes, streaks, x, y, rho, axlambda):\n",
    "#     d2_el = (axon_segment[0, None] - x)**2 + (axon_segment[1, None] - y)**2\n",
    "#     intensity = brights * np.exp(-d2_el / (2. * rho**2 * sizes)) * (axon_segment[2] ** 1./streaks)\n",
    "#     return np.sum(intensity)\n",
    "\n",
    "\n",
    "# also vmap over simulated points\n",
    "def predict_one_point(axon, brights, sizes, streaks, x, y, rho, axlambda):\n",
    "    d2_el = (axon[:, 0, None] - x)**2 + (axon[:, 1, None] - y)**2\n",
    "    intensities = brights * jnp.exp(-d2_el / (2. * rho**2 * sizes)) * (axon[:, 2, None] ** (1./streaks))\n",
    "    return jnp.sum(intensities, axis=1)\n",
    "#     return jit(vmap(predict_one_segment, in_axes=[0, None, None, None, None, None, None, None]), static_argnums=[6,7])(axon, brights, sizes, streaks, x, y, rho, axlambda)\n",
    "\n",
    "def gpu_biphasic_axon_map(params, # Per ACTIVE electrode, (amp, freq, pdur, x, y)\n",
    "                          axon_segments, rho, axlambda, thresh_percept):\n",
    "    deg2rad = 3.14159265358979323846 / 180.0\n",
    "\n",
    "#     n_space = len(axon_segments)\n",
    "\n",
    "    min_size = 10**2 / rho**2\n",
    "    min_streak = 10**2 / axlambda **2\n",
    "\n",
    "    # First get contributions from F, G, H per electrode\n",
    "    scaled_amps = params[0] / (0.8825 + 0.27*params[2])\n",
    "    brights = 1.84*scaled_amps + 0.2*params[1] + 2.0986\n",
    "    sizes = jnp.maximum(1.081*scaled_amps - 0.3533764, min_size)\n",
    "    streaks = jnp.maximum(1.56 - 0.54 * params[2] ** 0.21, min_streak)\n",
    "\n",
    "#     # axon_segments is (n_space, axon_length, 3), x and y are (n_elec)\n",
    "#     d2_el = (axon_segments[:, :, 0, None] - params[3])**2 + (axon_segments[:, :, 1, None] - params[4])**2\n",
    "#     # (n_space, axon_length, n_elecs)\n",
    "    \n",
    "#     #                       (n_elecs) (n_space, axon_length, n_elecs)            (n_space, axon_length, n_elecs) \n",
    "#     electrode_intensities = brights * jnp.exp(-d2_el / ( 2. * rho**2. * sizes)) * (axon_segments[:, :, 2, None] ** (1. / streaks))\n",
    "#     # (n_space, axon_length, n_elecs)\n",
    "    \n",
    "# #     axon_intensities = \n",
    "#     # (n_space, n_elecs)\n",
    "#     I = np.sum(electrode_intensities, axis=2)\n",
    "    \n",
    "    \n",
    "    \n",
    "    \n",
    "    I = jnp.max(jit(vmap(predict_one_point, in_axes=[0, None, None, None, None, None, None, None]), static_argnums=[6, 7])(axon_segments, brights, sizes, streaks, params[3], params[4], rho, axlambda), axis=1)\n",
    "#     I = (I > thresh_percept) * I\n",
    "    return I\n"
   ]
  },
  {
   "cell_type": "markdown",
   "metadata": {
    "id": "z-Dh4I-18-dj"
   },
   "source": [
    "#### Build model here in new spatial subclass, wrapped in BiphasicAxonMapGPU"
   ]
  },
  {
   "cell_type": "code",
   "execution_count": 3,
   "metadata": {
    "id": "fZ1F83RBhBta"
   },
   "outputs": [],
   "source": [
    "import time\n",
    "from copy import deepcopy\n",
    "from pulse2percept.percepts import Percept\n",
    "class BiphasicAxonMapGPUSpatial(AxonMapSpatial):\n",
    "    def __init__(self, **params):\n",
    "        super(BiphasicAxonMapGPUSpatial, self).__init__(**params)\n",
    "\n",
    "    def _predict_spatial(self, earray, stim):\n",
    "#         start = time.time()\n",
    "        assert isinstance(earray, ElectrodeArray)\n",
    "        assert isinstance(stim, Stimulus)\n",
    "\n",
    "        # get relevant stimulus properties\n",
    "        amps = np.array([stim.metadata['electrodes'][str(e)]['metadata']['amp'] for e in stim.electrodes], dtype=\"float32\")\n",
    "        freqs = np.array([stim.metadata['electrodes'][str(e)]['metadata']['freq'] for e in stim.electrodes], dtype=\"float32\")\n",
    "        pdurs = np.array([stim.metadata['electrodes'][str(e)]['metadata']['phase_dur'] for e in stim.electrodes], dtype=\"float32\")\n",
    "\n",
    "        x = np.array([earray[e].x for e in stim.electrodes], dtype=np.float32)\n",
    "        y = np.array([earray[e].y for e in stim.electrodes], dtype=np.float32)\n",
    "        \n",
    "        params = np.vstack([amps, freqs, pdurs, x, y])\n",
    "#         begin = time.time()\n",
    "#         print(\"Setup time: %.3fms\" % ((begin - start)*1000))\n",
    "#         params = jax.device_put(params, jax.devices()[0])\n",
    "#         ax_contrib = jax.device_put(self.axon_contrib, jax.devices()[0])\n",
    "#         ax_contrib = self.axon_contrib\n",
    "#         e1 = time.time()\n",
    "#         print(\"Transfer time: %.3fms\" % ((e1 - begin)*1000))\n",
    "        p =  jit(gpu_biphasic_axon_map, static_argnums=[2,3,4,5])(params,\n",
    "                                     self.axon_contrib,\n",
    "                                     self.rho, self.axlambda, self.thresh_percept)\n",
    "#         end = time.time()\n",
    "#         print(\"Jax time: {} ms on sample {}\".format((end - begin) * 1000, stim.shape))\n",
    "\n",
    "        return p\n",
    "\n",
    "    def _build(self):\n",
    "        super(BiphasicAxonMapGPUSpatial, self)._build()\n",
    "        self.axon_contrib = jax.device_put(self.axon_contrib, jax.devices()[0])\n",
    "        \n",
    "        \n",
    "\n",
    "\n",
    "\n",
    "class BiphasicAxonMapGPU(Model):\n",
    "    def __init__(self, **params):\n",
    "        super(BiphasicAxonMapGPU, self).__init__(spatial=BiphasicAxonMapGPUSpatial(), temporal=None, **params)\n",
    "\n",
    "    def predict_percept(self, implant, t_percept=None):\n",
    "#         start = time.time()\n",
    "        # Make sure stimulus is a BiphasicPulseTrain:\n",
    "        if not isinstance(implant.stim, BiphasicPulseTrain):\n",
    "            # Could still be a stimulus where each electrode has a biphasic pulse train\n",
    "            for ele, params in implant.stim.metadata['electrodes'].items():\n",
    "                if params['type'] != BiphasicPulseTrain or params['metadata']['delay_dur'] != 0: \n",
    "                    raise TypeError(\"All stimuli must be BiphasicPulseTrains with no delay dur (Failing electrode: %s)\" % (ele)) \n",
    "        \n",
    "#         return super(BiphasicAxonMapGPU, self).predict_percept(implant, t_percept=t_percept)\n",
    "\n",
    "        if not self.is_built:\n",
    "            raise NotBuiltError(\"Yout must call ``build`` first.\")\n",
    "        if not isinstance(implant, ProsthesisSystem):\n",
    "            raise TypeError((\"'implant' must be a ProsthesisSystem object, \"\n",
    "                             \"not %s.\") % type(implant))\n",
    "        if implant.stim is None:\n",
    "            # Nothing to see here:\n",
    "            return None\n",
    "        \n",
    "\n",
    "        # Calculate the Stimulus at requested time points:\n",
    "\n",
    "        stim = Stimulus(implant.stim) # make sure stimulus is in proper format\n",
    "\n",
    "#         e4 = time.time()\n",
    "#         print(\"Stim restructuring and checks: %.3fms\" % ((e4 - start) * 1000))\n",
    "        \n",
    "        resp = self._predict_spatial(implant.earray, stim)\n",
    "#         e5 = time.time()\n",
    "#         print(\"predict_spatial: %.3fms\" % ((e5 - e4) * 1000))\n",
    "        p = Percept(resp.reshape(list(self.grid.x.shape) + [-1]),\n",
    "                       space=self.grid, time=None,\n",
    "                       metadata={'stim': stim.metadata})\n",
    "#         e6 = time.time()\n",
    "#         print(\"Percept Construction: %.3fms\" % ((e6 - e5) * 1000))\n",
    "        return p\n",
    "\n",
    "    def predict_percept_batched(self, implant, stim_list, t_percept=None):\n",
    "        start = time.time()\n",
    "        for stim in stim_list:\n",
    "            if not isinstance(stim, BiphasicPulseTrain):\n",
    "                # Could still be a stimulus where each electrode has a biphasic pulse train\n",
    "                for ele, params in stim.metadata['electrodes'].items():\n",
    "                    if params['type'] != BiphasicPulseTrain or params['metadata']['delay_dur'] != 0: \n",
    "                        raise TypeError(\"All stimuli must be BiphasicPulseTrains with no delay dur (Failing electrode: %s)\" % (ele)) \n",
    "        \n",
    "        if not self.is_built:\n",
    "            raise NotBuiltError(\"You must call ``build`` first.\")\n",
    "        if not isinstance(implant, ProsthesisSystem):\n",
    "            raise TypeError((\"'implant' must be a ProsthesisSystem object, \"\n",
    "                             \"not %s.\") % type(implant))\n",
    "        \n",
    "        batch = []\n",
    "        for stim in stim_list:   \n",
    "            amps = np.array([stim.metadata['electrodes'][str(e)]['metadata']['amp'] for e in stim.electrodes], dtype=\"float32\")\n",
    "            freqs = np.array([stim.metadata['electrodes'][str(e)]['metadata']['freq'] for e in stim.electrodes], dtype=\"float32\")\n",
    "            pdurs = np.array([stim.metadata['electrodes'][str(e)]['metadata']['phase_dur'] for e in stim.electrodes], dtype=\"float32\")\n",
    "            x = np.array([implant.earray[e].x for e in stim.electrodes], dtype=np.float32)\n",
    "            y = np.array([implant.earray[e].y for e in stim.electrodes], dtype=np.float32)\n",
    "\n",
    "            batch.append(np.vstack([amps, freqs, pdurs, x, y]))\n",
    "        \n",
    "        batch = np.array(batch) \n",
    "        e1 = time.time()\n",
    "        print(\"Setup: %.3fms\" % ((e1 - start) * 1000))\n",
    "#         print(batch.shape)\n",
    "        start = time.time()\n",
    "#         print(\"Transfer: %.3fms\" % ((start - e1) * 1000))\n",
    "        resps = jit(vmap(gpu_biphasic_axon_map, in_axes=[0, None, None, None, None]), static_argnums=[2,3,4])(batch, self.axon_contrib, self.rho, self.axlambda, self.thresh_percept).block_until_ready()\n",
    "        end = time.time()\n",
    "        print(\"Jax time: %.3f ms, %.3f ms per sample\" % (float(end - start) * 1000, float((end - start) * 1000 / len(stim_list))))\n",
    "\n",
    "    "
   ]
  },
  {
   "cell_type": "code",
   "execution_count": 4,
   "metadata": {
    "colab": {
     "base_uri": "https://localhost:8080/"
    },
    "id": "d6XQ9yYDe6qc",
    "outputId": "3c3619dc-d88a-4dda-aa34-a40b636bb78a"
   },
   "outputs": [
    {
     "name": "stdout",
     "output_type": "stream",
     "text": [
      "\n"
     ]
    }
   ],
   "source": [
    "model = BiphasicAxonMapGPU(axon_length = 0.5, axlambda=800)\n",
    "model.build()\n",
    "implant = ArgusII()\n",
    "stim = Stimulus({\"A2\" : BiphasicPulseTrain(20, 1, 0.45), \"A10\" : BiphasicPulseTrain(30, 1, 0.45)})\n",
    "implant.stim = stim\n",
    "\n",
    "model_orig = BiphasicAxonMapModel(axlambda=800)\n",
    "model_orig.build()\n",
    "print()"
   ]
  },
  {
   "cell_type": "code",
   "execution_count": 36,
   "metadata": {},
   "outputs": [],
   "source": [
    "stim = Stimulus({ \"A10\" : BiphasicPulseTrain(30, 1, 0.45)})\n",
    "implant.stim = stim"
   ]
  },
  {
   "cell_type": "code",
   "execution_count": 84,
   "metadata": {},
   "outputs": [],
   "source": [
    "stim = Stimulus({\"A2\" : BiphasicPulseTrain(20, 1, 0.45), \"A10\" : BiphasicPulseTrain(30, 1, 0.45), \"A4\" : BiphasicPulseTrain(20, 1, 0.45), \"A7\" : BiphasicPulseTrain(30, 1, 0.45)})\n",
    "implant.stim = stim"
   ]
  },
  {
   "cell_type": "code",
   "execution_count": 6,
   "metadata": {
    "colab": {
     "base_uri": "https://localhost:8080/",
     "height": 300
    },
    "id": "bVl44xeBe_vX",
    "outputId": "e5b5f886-d342-43bb-a3f0-ea9034def03c"
   },
   "outputs": [
    {
     "name": "stdout",
     "output_type": "stream",
     "text": [
      "1.7504692077636719\n"
     ]
    },
    {
     "data": {
      "text/plain": [
       "<matplotlib.axes._subplots.AxesSubplot at 0x7fa0a8462e48>"
      ]
     },
     "execution_count": 6,
     "metadata": {},
     "output_type": "execute_result"
    },
    {
     "data": {
      "image/png": "[encoded data removed]",
      "text/plain": [
       "<Figure size 432x288 with 1 Axes>"
      ]
     },
     "metadata": {
      "needs_background": "light"
     },
     "output_type": "display_data"
    }
   ],
   "source": [
    "start = time.time()\n",
    "percept = model.predict_percept(implant)\n",
    "print((time.time() - start)*1000)\n",
    "percept.plot()"
   ]
  },
  {
   "cell_type": "code",
   "execution_count": 8,
   "metadata": {
    "colab": {
     "base_uri": "https://localhost:8080/",
     "height": 300
    },
    "id": "abLkwzi8f1jW",
    "outputId": "47895a3c-910d-461f-8437-50da9db153b9"
   },
   "outputs": [
    {
     "data": {
      "text/plain": [
       "<matplotlib.axes._subplots.AxesSubplot at 0x7fa0a83fb550>"
      ]
     },
     "execution_count": 8,
     "metadata": {},
     "output_type": "execute_result"
    },
    {
     "data": {
      "image/png": "[encoded data removed]",
      "text/plain": [
       "<Figure size 432x288 with 1 Axes>"
      ]
     },
     "metadata": {
      "needs_background": "light"
     },
     "output_type": "display_data"
    }
   ],
   "source": [
    "p1 = model_orig.predict_percept(implant)\n",
    "p1.plot()"
   ]
  },
  {
   "cell_type": "code",
   "execution_count": 9,
   "metadata": {
    "colab": {
     "base_uri": "https://localhost:8080/",
     "height": 163
    },
    "id": "7isiC_Z53wUs",
    "outputId": "d30fa2fc-892b-4e55-fa95-d6ec1b27e2b8"
   },
   "outputs": [
    {
     "data": {
      "text/plain": [
       "0.99732065"
      ]
     },
     "execution_count": 9,
     "metadata": {},
     "output_type": "execute_result"
    }
   ],
   "source": [
    "np.max(p1.data - percept.data)"
   ]
  },
  {
   "cell_type": "code",
   "execution_count": 10,
   "metadata": {},
   "outputs": [
    {
     "data": {
      "text/plain": [
       "0.020292625"
      ]
     },
     "execution_count": 10,
     "metadata": {},
     "output_type": "execute_result"
    }
   ],
   "source": [
    "np.mean(p1.data - percept.data)"
   ]
  },
  {
   "cell_type": "code",
   "execution_count": 116,
   "metadata": {},
   "outputs": [
    {
     "data": {
      "text/plain": [
       "9.835198"
      ]
     },
     "execution_count": 116,
     "metadata": {},
     "output_type": "execute_result"
    }
   ],
   "source": [
    "percept.get_brightest_frame().max()"
   ]
  },
  {
   "cell_type": "code",
   "execution_count": 117,
   "metadata": {},
   "outputs": [
    {
     "data": {
      "text/plain": [
       "10.825558"
      ]
     },
     "execution_count": 117,
     "metadata": {},
     "output_type": "execute_result"
    }
   ],
   "source": [
    "p1.get_brightest_frame().max()"
   ]
  },
  {
   "cell_type": "markdown",
   "metadata": {},
   "source": [
    "## Timing"
   ]
  },
  {
   "cell_type": "code",
   "execution_count": 11,
   "metadata": {
    "tags": []
   },
   "outputs": [],
   "source": [
    "import time\n",
    "import random\n",
    "from pulse2percept.stimuli import Stimulus, BiphasicPulseTrain\n",
    "\n",
    "batch = None\n",
    "batched_size = None\n",
    "def rand_stim(implant, n_electrodes=1):\n",
    "    maxamp = 15\n",
    "    maxfreq = 200\n",
    "    elecs = set()\n",
    "    while len(elecs) < n_electrodes:\n",
    "        # add another electrode\n",
    "        elecs.add(random.choice(list(implant.electrode_names)))\n",
    "    stim = {}\n",
    "    for elec in elecs:\n",
    "        amp = random.random() * maxamp\n",
    "        freq = random.random() * maxfreq\n",
    "        pdur = random.expovariate(1)\n",
    "        while pdur > 1000 / freq / 2 or pdur < 0.01 or pdur > 100:\n",
    "            pdur = random.expovariate(1)\n",
    "        stim[elec] = BiphasicPulseTrain(freq, amp, pdur, stim_dur=1000)\n",
    "    stimulus = Stimulus(stim)\n",
    "    return stimulus\n",
    "\n",
    "def time_constant(model, implant, n_elecs=1, n_samples=10, stim_func=rand_stim, verbose=True):\n",
    "    total_time = 0\n",
    "    for i in range(n_samples):\n",
    "        try:\n",
    "            stim = stim_func(implant, n_electrodes=n_elecs)\n",
    "            implant.stim = stim\n",
    "            start = time.time()\n",
    "            percept = model.predict_percept(implant)\n",
    "            end = time.time()\n",
    "#             print((end - start) * 1000)\n",
    "            total_time += end - start\n",
    "        except Exception as e:\n",
    "            print(e)\n",
    "            continue\n",
    "    if verbose:\n",
    "        print(\"Average prediction time (%d electrodes): %.2fms\" % (n_elecs, total_time / n_samples * 1000))\n",
    "        print(\"Average prediction time per electrode: %.2fms\" % (total_time / n_samples * 1000 / n_elecs))\n",
    "    return total_time / n_samples * 1000\n",
    "\n",
    "def time_batch(model, implant, n_elecs=1, batch_size=256, stim_func=rand_stim, verbose=True):\n",
    "    global batch, batched_size\n",
    "    if batch is None or batched_size != batch_size: # use precomputed batch if possible\n",
    "        stim_list = []\n",
    "        for i in range(batch_size):\n",
    "            try:\n",
    "                stim_list.append(stim_func(implant, n_electrodes=n_elecs))\n",
    "            except Exception as e:\n",
    "                i -= 1\n",
    "                print(e)\n",
    "                continue\n",
    "        batch = stim_list\n",
    "        batched_size = batch_size\n",
    "    else:\n",
    "        stim_list = batch\n",
    "    \n",
    "    print(\"predicting percepts\")\n",
    "    start = time.time()\n",
    "    model.predict_percept_batched(implant, stim_list)\n",
    "    end = time.time()\n",
    "    total_time = end - start\n",
    "    print(\"Average prediction time (%d electrodes): %.2fms\" % (n_elecs, total_time / batch_size * 1000))\n",
    "    print(\"Total batch time: %.3fs\" % (end - start))\n",
    "    return (end - start) / batch_size * 1000"
   ]
  },
  {
   "cell_type": "code",
   "execution_count": 13,
   "metadata": {},
   "outputs": [
    {
     "name": "stdout",
     "output_type": "stream",
     "text": [
      "Average prediction time (1 electrodes): 0.56ms\n",
      "Average prediction time per electrode: 0.56ms\n",
      "Average prediction time (15 electrodes): 0.88ms\n",
      "Average prediction time per electrode: 0.06ms\n"
     ]
    },
    {
     "data": {
      "text/plain": [
       "0.8769369125366211"
      ]
     },
     "execution_count": 13,
     "metadata": {},
     "output_type": "execute_result"
    }
   ],
   "source": [
    "# model = BiphasicAxonMapGPU(axon_length=0.5)\n",
    "# model.build()\n",
    "# implant = ArgusII(rot=45)\n",
    "time_constant(model, implant, n_elecs=1, n_samples=50)\n",
    "time_constant(model, implant, n_elecs=15, n_samples=50)"
   ]
  },
  {
   "cell_type": "code",
   "execution_count": 17,
   "metadata": {},
   "outputs": [
    {
     "name": "stdout",
     "output_type": "stream",
     "text": [
      "predicting percepts\n",
      "Setup: 26.215ms\n",
      "Jax time: 139.146 ms, 0.548 ms per sample\n",
      "Average prediction time (15 electrodes): 0.65ms\n",
      "Total batch time: 0.166s\n"
     ]
    },
    {
     "data": {
      "text/plain": [
       "0.6470028311014175"
      ]
     },
     "execution_count": 17,
     "metadata": {},
     "output_type": "execute_result"
    }
   ],
   "source": [
    "# model = BiphasicAxonMapGPU(axon_length=0.5)\n",
    "# model.build()\n",
    "# implant = ArgusII(rot=45)\n",
    "time_batch(model, implant, n_elecs=15, batch_size=256)"
   ]
  },
  {
   "cell_type": "code",
   "execution_count": null,
   "metadata": {},
   "outputs": [],
   "source": []
  },
  {
   "cell_type": "code",
   "execution_count": 19,
   "metadata": {},
   "outputs": [
    {
     "name": "stdout",
     "output_type": "stream",
     "text": [
      "'str' object cannot be interpreted as an integer\n",
      "'str' object cannot be interpreted as an integer\n",
      "'str' object cannot be interpreted as an integer\n",
      "'str' object cannot be interpreted as an integer\n"
     ]
    },
    {
     "data": {
      "image/png": "[encoded data removed]",
      "text/plain": [
       "<Figure size 720x720 with 1 Axes>"
      ]
     },
     "metadata": {
      "needs_background": "light"
     },
     "output_type": "display_data"
    }
   ],
   "source": [
    "import matplotlib.pyplot as plt\n",
    "n_elecs = np.arange(1, 60, 6)\n",
    "fig, ax = plt.subplots(1, 1, figsize=(10, 10))\n",
    "times = []\n",
    "model = BiphasicAxonMapGPU(axon_length=0.5)\n",
    "model.build()\n",
    "implant = ArgusII(rot=45)\n",
    "time_constant(model, implant, n_samples=20, n_elecs=1, verbose=False)\n",
    "for n_elec in n_elecs:\n",
    "    times.append(time_constant(model, implant, n_samples=20, n_elecs=n_elec, verbose=False))\n",
    "ax.plot(n_elecs, times)\n",
    "ax.set_xlabel(\"Number of Active Electrodes\")\n",
    "ax.set_ylabel(\"Average Prediction Time (ms)\")\n",
    "ax.set_title(\"Single Sample Prediction Time vs Number of Electrodes\")\n",
    "    \n",
    "fig.show()"
   ]
  },
  {
   "cell_type": "code",
   "execution_count": 20,
   "metadata": {},
   "outputs": [
    {
     "name": "stdout",
     "output_type": "stream",
     "text": [
      "predicting percepts\n",
      "Setup: 22.231ms\n",
      "Jax time: 146.331 ms, 0.576 ms per sample\n",
      "Average prediction time (55 electrodes): 0.66ms\n",
      "Total batch time: 0.169s\n",
      "predicting percepts\n",
      "Setup: 21.135ms\n",
      "Jax time: 134.459 ms, 0.529 ms per sample\n",
      "Average prediction time (1 electrodes): 0.61ms\n",
      "Total batch time: 0.156s\n",
      "predicting percepts\n",
      "Setup: 21.260ms\n",
      "Jax time: 135.989 ms, 0.535 ms per sample\n",
      "Average prediction time (6 electrodes): 0.61ms\n",
      "Total batch time: 0.157s\n",
      "predicting percepts\n",
      "Setup: 22.129ms\n",
      "Jax time: 134.194 ms, 0.528 ms per sample\n",
      "Average prediction time (11 electrodes): 0.61ms\n",
      "Total batch time: 0.156s\n",
      "predicting percepts\n",
      "Setup: 21.993ms\n",
      "Jax time: 134.743 ms, 0.530 ms per sample\n",
      "Average prediction time (16 electrodes): 0.61ms\n",
      "Total batch time: 0.157s\n",
      "predicting percepts\n",
      "Setup: 21.407ms\n",
      "Jax time: 135.691 ms, 0.534 ms per sample\n",
      "Average prediction time (21 electrodes): 0.61ms\n",
      "Total batch time: 0.157s\n",
      "predicting percepts\n",
      "Setup: 21.801ms\n",
      "Jax time: 133.465 ms, 0.525 ms per sample\n",
      "Average prediction time (26 electrodes): 0.61ms\n",
      "Total batch time: 0.155s\n",
      "predicting percepts\n",
      "Setup: 21.847ms\n",
      "Jax time: 133.453 ms, 0.525 ms per sample\n",
      "Average prediction time (31 electrodes): 0.61ms\n",
      "Total batch time: 0.156s\n",
      "predicting percepts\n",
      "Setup: 21.195ms\n",
      "Jax time: 134.867 ms, 0.531 ms per sample\n",
      "Average prediction time (36 electrodes): 0.61ms\n",
      "Total batch time: 0.156s\n",
      "predicting percepts\n",
      "Setup: 21.522ms\n",
      "Jax time: 134.940 ms, 0.531 ms per sample\n",
      "Average prediction time (41 electrodes): 0.61ms\n",
      "Total batch time: 0.157s\n",
      "predicting percepts\n",
      "Setup: 21.681ms\n",
      "Jax time: 134.861 ms, 0.531 ms per sample\n",
      "Average prediction time (46 electrodes): 0.61ms\n",
      "Total batch time: 0.157s\n",
      "predicting percepts\n",
      "Setup: 21.403ms\n",
      "Jax time: 137.695 ms, 0.542 ms per sample\n",
      "Average prediction time (51 electrodes): 0.62ms\n",
      "Total batch time: 0.159s\n",
      "predicting percepts\n",
      "Setup: 22.088ms\n",
      "Jax time: 130.718 ms, 0.515 ms per sample\n",
      "Average prediction time (56 electrodes): 0.60ms\n",
      "Total batch time: 0.153s\n"
     ]
    },
    {
     "data": {
      "image/png": "[encoded data removed]",
      "text/plain": [
       "<Figure size 720x720 with 1 Axes>"
      ]
     },
     "metadata": {
      "needs_background": "light"
     },
     "output_type": "display_data"
    }
   ],
   "source": [
    "import matplotlib.pyplot as plt\n",
    "n_elecs = np.arange(1, 60, 5)\n",
    "fig, ax = plt.subplots(1, 1, figsize=(10, 10))\n",
    "times = []\n",
    "model = BiphasicAxonMapGPU(axon_length=0.5)\n",
    "model.build()\n",
    "implant = ArgusII(rot=45)\n",
    "time_batch(model, implant, batch_size=256, n_elecs=n_elec, verbose=False)\n",
    "for n_elec in n_elecs:\n",
    "    times.append(256 / 1000 * time_batch(model, implant, batch_size=256, n_elecs=n_elec, verbose=False))\n",
    "ax.plot(n_elecs, times)\n",
    "ax.set_xlabel(\"Number of Active Electrodes\")\n",
    "ax.set_ylabel(\"Average Batch Time\")\n",
    "ax.set_title(\"Batched (256) Prediction Time vs Number of Electrodes\")\n",
    "    \n",
    "fig.show()"
   ]
  },
  {
   "cell_type": "code",
   "execution_count": 97,
   "metadata": {},
   "outputs": [
    {
     "name": "stdout",
     "output_type": "stream",
     "text": [
      "predicting percepts\n",
      "Setup + transfer: 450.588ms\n",
      "Jax time: 5.687 s, 22.304 ms per sample\n",
      "Average prediction time (1 electrodes): 24.16ms\n",
      "Total batch time: 6.184s\n",
      "predicting percepts\n",
      "Setup + transfer: 452.582ms\n",
      "Jax time: 5.801 s, 22.748 ms per sample\n",
      "Average prediction time (6 electrodes): 24.61ms\n",
      "Total batch time: 6.301s\n",
      "predicting percepts\n",
      "Setup + transfer: 453.048ms\n",
      "Jax time: 5.720 s, 22.431 ms per sample\n",
      "Average prediction time (11 electrodes): 24.29ms\n",
      "Total batch time: 6.219s\n",
      "predicting percepts\n",
      "Setup + transfer: 445.938ms\n",
      "Jax time: 5.699 s, 22.349 ms per sample\n",
      "Average prediction time (16 electrodes): 24.18ms\n",
      "Total batch time: 6.191s\n",
      "predicting percepts\n",
      "Setup + transfer: 448.912ms\n",
      "Jax time: 5.729 s, 22.468 ms per sample\n",
      "Average prediction time (21 electrodes): 24.32ms\n",
      "Total batch time: 6.225s\n",
      "predicting percepts\n",
      "Setup + transfer: 451.864ms\n",
      "Jax time: 5.694 s, 22.331 ms per sample\n",
      "Average prediction time (26 electrodes): 24.19ms\n",
      "Total batch time: 6.192s\n",
      "predicting percepts\n",
      "Setup + transfer: 446.897ms\n",
      "Jax time: 5.854 s, 22.958 ms per sample\n",
      "Average prediction time (31 electrodes): 24.79ms\n",
      "Total batch time: 6.348s\n",
      "predicting percepts\n",
      "Setup + transfer: 447.893ms\n",
      "Jax time: 5.722 s, 22.439 ms per sample\n",
      "Average prediction time (36 electrodes): 24.28ms\n",
      "Total batch time: 6.216s\n",
      "predicting percepts\n",
      "Setup + transfer: 445.984ms\n",
      "Jax time: 5.742 s, 22.517 ms per sample\n",
      "Average prediction time (41 electrodes): 24.36ms\n",
      "Total batch time: 6.236s\n",
      "predicting percepts\n",
      "Setup + transfer: 455.257ms\n",
      "Jax time: 6.013 s, 23.580 ms per sample\n",
      "Average prediction time (46 electrodes): 25.45ms\n",
      "Total batch time: 6.515s\n",
      "predicting percepts\n",
      "Setup + transfer: 446.454ms\n",
      "Jax time: 5.715 s, 22.410 ms per sample\n",
      "Average prediction time (51 electrodes): 24.25ms\n",
      "Total batch time: 6.207s\n",
      "predicting percepts\n",
      "Setup + transfer: 444.376ms\n",
      "Jax time: 5.659 s, 22.191 ms per sample\n",
      "Average prediction time (56 electrodes): 24.02ms\n",
      "Total batch time: 6.149s\n"
     ]
    },
    {
     "data": {
      "image/png": "[encoded data removed]",
      "text/plain": [
       "<Figure size 720x720 with 1 Axes>"
      ]
     },
     "metadata": {
      "needs_background": "light"
     },
     "output_type": "display_data"
    }
   ],
   "source": [
    "import matplotlib.pyplot as plt\n",
    "n_elecs = np.arange(1, 60, 5)\n",
    "fig, ax = plt.subplots(1, 1, figsize=(10, 10))\n",
    "times1 = []\n",
    "model = BiphasicAxonMapGPU(axon_length=0.5)\n",
    "model.build()\n",
    "implant = ArgusII(rot=45)\n",
    "for n_elec in n_elecs:\n",
    "    times1.append(256 / 1000 * time_batch(model, implant, batch_size=256, n_elecs=n_elec, verbose=False))\n",
    "ax.plot(n_elecs, times, label=\"GPU\")\n",
    "ax.plot(n_elecs, times1, label=\"CPU\")\n",
    "ax.set_xlabel(\"Number of Active Electrodes\")\n",
    "ax.set_ylabel(\"Average Prediction Time per sample\")\n",
    "ax.set_title(\"Batched Prediction Time vs Number of Electrodes\")\n",
    "ax.legend()\n",
    "    \n",
    "fig.show()"
   ]
  },
  {
   "cell_type": "code",
   "execution_count": null,
   "metadata": {},
   "outputs": [],
   "source": []
  },
  {
   "cell_type": "code",
   "execution_count": null,
   "metadata": {},
   "outputs": [],
   "source": []
  },
  {
   "cell_type": "code",
   "execution_count": null,
   "metadata": {},
   "outputs": [],
   "source": []
  },
  {
   "cell_type": "code",
   "execution_count": null,
   "metadata": {},
   "outputs": [],
   "source": []
  },
  {
   "cell_type": "markdown",
   "metadata": {},
   "source": [
    "# Axon Map"
   ]
  },
  {
   "cell_type": "code",
   "execution_count": 1,
   "metadata": {},
   "outputs": [
    {
     "data": {
      "text/plain": [
       "[GpuDevice(id=0, process_index=0)]"
      ]
     },
     "execution_count": 1,
     "metadata": {},
     "output_type": "execute_result"
    }
   ],
   "source": [
    "from pulse2percept.models import AxonMapModel, BiphasicAxonMapModel, BiphasicAxonMapSpatial, Model, AxonMapSpatial\n",
    "from pulse2percept.stimuli import Stimulus, BiphasicPulseTrain\n",
    "from pulse2percept.implants import DiskElectrode, ProsthesisSystem, ArgusII, ElectrodeArray\n",
    "\n",
    "import numpy as np\n",
    "import os\n",
    "os.environ[\"CUDA_VISIBLE_DEVICES\"]=\"0\"\n",
    "import jax.numpy as jnp\n",
    "import jax\n",
    "from jax import jit, partial, vmap\n",
    "jax.devices()"
   ]
  },
  {
   "cell_type": "code",
   "execution_count": null,
   "metadata": {},
   "outputs": [],
   "source": [
    "a = np.array([1,2,3])\n",
    "b = np.array([1,2,3,4])"
   ]
  },
  {
   "cell_type": "code",
   "execution_count": 21,
   "metadata": {},
   "outputs": [],
   "source": [
    "def predict_one_space_time(amp, d2_el, sensitivities, rho):\n",
    "    #             (n_elec) (n_segments, n_elec) (n_segments) -> (n_segments, n_elec) -> (n_segments)\n",
    "    return jnp.sum(amp * jnp.exp(-d2_el / (2. * rho**2)) * sensitivities[:, None], axis=1)\n",
    "\n",
    "\n",
    "def predict_one_space(amps, xs, ys, axon, rho): # for every spatial point\n",
    "    d2_el = (axon[:, 0, None] - xs)**2 + (axon[:, 1, None] - ys)**2\n",
    "    # (n_segments, n_elec)\n",
    "    return vmap(predict_one_space_time, in_axes=[1, None, None, None])(amps, d2_el, axon[:, 2], rho)\n",
    "    # (n_time, n_segments)\n",
    "def gpu_axon_map(amps, xs, ys, axons, rho, threshpercept):\n",
    "    # amps is (n_elecs, n_time)\n",
    "    \n",
    "    I = vmap(predict_one_space, in_axes=[None, None, None, 0, None])(amps, xs, ys, axons, rho)\n",
    "    # (n_space, n_time, n_segments)\n",
    "    I = jnp.max(I, axis=2)\n",
    "    return I  # Py overhead"
   ]
  },
  {
   "cell_type": "code",
   "execution_count": 22,
   "metadata": {},
   "outputs": [],
   "source": [
    "class AxonMapGPUSpatial(AxonMapSpatial):\n",
    "    def __init__(self, **params):\n",
    "        super(AxonMapGPUSpatial, self).__init__(**params)\n",
    "\n",
    "    def _predict_spatial(self, earray, stim):\n",
    "        assert isinstance(earray, ElectrodeArray)\n",
    "        assert isinstance(stim, Stimulus)\n",
    "\n",
    "        amps = stim.data\n",
    "\n",
    "        xs = np.array([earray[e].x for e in stim.electrodes], dtype=np.float32)\n",
    "        ys = np.array([earray[e].y for e in stim.electrodes], dtype=np.float32)\n",
    "        \n",
    "        return jit(gpu_axon_map, static_argnums=[4,5,6])(amps, xs, ys, self.axon_contrib, self.rho, self.thresh_percept)\n",
    "#         return gpu_axon_map(amps, xs, ys, self.axon_contrib, self.rho, self.thresh_percept)\n",
    "\n",
    "    def _build(self):\n",
    "        super(AxonMapGPUSpatial, self)._build()\n",
    "        self.axon_contrib = jax.device_put(self.axon_contrib, jax.devices()[0])\n",
    "\n",
    "\n",
    "\n",
    "class AxonMapGPU(Model):\n",
    "    def __init__(self, **params):\n",
    "        super(AxonMapGPU, self).__init__(spatial=AxonMapGPUSpatial(), temporal=None, **params)\n",
    "\n",
    "    def predict_percept_batched(self, implant, stim_list, t_percept=None):\n",
    "\n",
    "        \n",
    "        if not self.is_built:\n",
    "            raise NotBuiltError(\"You must call ``build`` first.\")\n",
    "        if not isinstance(implant, ProsthesisSystem):\n",
    "            raise TypeError((\"'implant' must be a ProsthesisSystem object, \"\n",
    "                             \"not %s.\") % type(implant))\n",
    "        \n",
    "        xs = [] #(n_elecs)\n",
    "        ys = [] #(n_elecs)\n",
    "        amps = [] #each entry is amp over time for each electrode for one percept (n_elecs, n_time)\n",
    "        for stim in stim_list:\n",
    "            implant.stim = stim\n",
    "            # Make sure to operate on the compressed stim:\n",
    "            if t_percept is None:\n",
    "                t_percept = stim.time\n",
    "            if not stim.is_compressed:\n",
    "                stim.compress()\n",
    "            n_time = 1 if t_percept is None else np.array([t_percept]).size\n",
    "            if stim.data.size == 0:\n",
    "                # Stimulus was compressed to zero:\n",
    "                resp = np.zeros((self.grid.x.size, n_time), dtype=np.float32)\n",
    "            else:\n",
    "                # Calculate the Stimulus at requested time points:\n",
    "                if t_percept is not None:\n",
    "                    # Save electrode parameters\n",
    "                    stim = Stimulus(stim) # make sure stimulus is in proper format\n",
    "                    stim = Stimulus(stim[:, t_percept].reshape((-1, n_time)),\n",
    "                                    electrodes=stim.electrodes, time=t_percept,\n",
    "                                    metadata=stim.metadata)\n",
    "                    \n",
    "                \n",
    "                xs.append(np.array([implant.earray[e].x for e in stim.electrodes], dtype=np.float32))\n",
    "                ys.append(np.array([implant.earray[e].y for e in stim.electrodes], dtype=np.float32))\n",
    "                \n",
    "                amps.append(stim.data)\n",
    "                 \n",
    "#         print(batch.shape)\n",
    "        resps = jit(vmap(gpu_axon_map, in_axes=[0, 0, 0, None, None, None, None]), static_argnums=[4,5,6])(amps, xs, ys, self.axon_contrib, self.rho, self.axlambda, self.thresh_percept)\n",
    "        \n",
    "    "
   ]
  },
  {
   "cell_type": "code",
   "execution_count": 73,
   "metadata": {},
   "outputs": [],
   "source": [
    "implant = ArgusII()\n",
    "stim = Stimulus({\"A2\" : BiphasicPulseTrain(20, 1, 0.45), \"A10\" : BiphasicPulseTrain(30, 1, 0.45)})"
   ]
  },
  {
   "cell_type": "code",
   "execution_count": 23,
   "metadata": {},
   "outputs": [
    {
     "name": "stdout",
     "output_type": "stream",
     "text": [
      "\n"
     ]
    }
   ],
   "source": [
    "model = AxonMapGPU(axon_length=0.5, axlambda=800)\n",
    "model.build()\n",
    "implant = ArgusII()\n",
    "stim = Stimulus({\"A2\" : BiphasicPulseTrain(20, 1, 0.45), \"A10\" : BiphasicPulseTrain(30, 1, 0.45)})\n",
    "implant.stim = stim\n",
    "\n",
    "model_orig = AxonMapModel(axlambda=800)\n",
    "model_orig.build()\n",
    "print()"
   ]
  },
  {
   "cell_type": "code",
   "execution_count": 25,
   "metadata": {},
   "outputs": [
    {
     "name": "stdout",
     "output_type": "stream",
     "text": [
      "16.443252563476562\n"
     ]
    },
    {
     "data": {
      "text/plain": [
       "<matplotlib.axes._subplots.AxesSubplot at 0x7fa0a05822b0>"
      ]
     },
     "execution_count": 25,
     "metadata": {},
     "output_type": "execute_result"
    },
    {
     "data": {
      "image/png": "[encoded data removed]",
      "text/plain": [
       "<Figure size 432x288 with 1 Axes>"
      ]
     },
     "metadata": {
      "needs_background": "light"
     },
     "output_type": "display_data"
    }
   ],
   "source": [
    "start = time.time()\n",
    "percept = model.predict_percept(implant)\n",
    "print((time.time() - start)*1000)\n",
    "percept.plot()"
   ]
  },
  {
   "cell_type": "code",
   "execution_count": 26,
   "metadata": {},
   "outputs": [
    {
     "data": {
      "text/plain": [
       "<matplotlib.axes._subplots.AxesSubplot at 0x7fa0a05b1c18>"
      ]
     },
     "execution_count": 26,
     "metadata": {},
     "output_type": "execute_result"
    },
    {
     "data": {
      "image/png": "[encoded data removed]",
      "text/plain": [
       "<Figure size 432x288 with 1 Axes>"
      ]
     },
     "metadata": {
      "needs_background": "light"
     },
     "output_type": "display_data"
    }
   ],
   "source": [
    "p1 = model_orig.predict_percept(implant)\n",
    "p1.plot()"
   ]
  },
  {
   "cell_type": "markdown",
   "metadata": {
    "id": "_dJKbxdrupId"
   },
   "source": [
    "## OLD"
   ]
  },
  {
   "cell_type": "code",
   "execution_count": 2,
   "metadata": {
    "id": "GhGTjIcgnGdy"
   },
   "outputs": [],
   "source": [
    "# numpy copy\n",
    "\n",
    "def gpu_biphasic_axon_map(amps, freqs, pdurs, x, y, # Per ACTIVE electrode\n",
    "                          axon_segments,\n",
    "                          rho, axlambda, thresh_percept, timesteps):\n",
    "  deg2rad = 3.14159265358979323846 / 180.0\n",
    "\n",
    "  n_space = len(axon_segments)\n",
    "\n",
    "  min_size = 10**2 / rho**2\n",
    "  min_streak = 10**2 / axlambda **2\n",
    "\n",
    "  # First get contributions from F, G, H per electrode\n",
    "  scaled_amps = amps / (0.8825 + 0.27*pdurs)\n",
    "  brights = 1.84*scaled_amps + 0.2*freqs + 2.0986\n",
    "  sizes = np.maximum(1.081*scaled_amps - 0.3533764, min_size)\n",
    "  streaks = np.maximum(1.56 - 0.54 * pdurs ** 0.21, min_streak)\n",
    "\n",
    "  I = np.zeros(shape=(n_space), dtype=np.float32)\n",
    "\n",
    "  for idx_space in range(n_space):\n",
    "    # (n_segments, n_elecs)\n",
    "    d2_el = ((axon_segments[idx_space, :, 0])[:, None] - x[None, :])**2. + ((axon_segments[idx_space, :, 1])[:, None] - y[None, :])**2. \n",
    "\n",
    "    # (n_segments, n_elecs)\n",
    "    electrode_intensities = brights * np.exp(-d2_el / ( 2. * rho**2. * sizes)) * ((axon_segments[idx_space, :, 2])[:, None] ** (1. / streaks)[None, :])\n",
    "    #                      (n_elec) * (n_segments, n_elecs)                  * (n_segments, n_elecs)\n",
    "\n",
    "    # (n_segments)\n",
    "    axon_intensities = np.sum(electrode_intensities, axis=1) # ith row is intensity at ith axon segment\n",
    "\n",
    "    axon_intensities[axon_intensities < thresh_percept] = 0.0\n",
    "\n",
    "    I[idx_space] = np.max(axon_intensities)\n",
    "\n",
    "  return np.asarray(np.transpose(np.tile(I, (timesteps, 1))))"
   ]
  },
  {
   "cell_type": "code",
   "execution_count": null,
   "metadata": {},
   "outputs": [],
   "source": [
    "#OLD jax copy\n",
    "\"\"\"\n",
    "Function to be JIT'ed. \n",
    "Must be purely functional, and follow all rules at https://jax.readthedocs.io/en/latest/notebooks/Common_Gotchas_in_JAX.html\n",
    "\n",
    "\"\"\"\n",
    "def gpu_biphasic_axon_map(amps, freqs, pdurs, x, y, # Per ACTIVE electrode\n",
    "                          axon_segments, rho, axlambda, thresh_percept, timesteps):\n",
    "  deg2rad = 3.14159265358979323846 / 180.0\n",
    "\n",
    "  n_space = len(axon_segments)\n",
    "\n",
    "  min_size = 10**2 / rho**2\n",
    "  min_streak = 10**2 / axlambda **2\n",
    "\n",
    "  # First get contributions from F, G, H per electrode\n",
    "  scaled_amps = amps / (0.8825 + 0.27*pdurs)\n",
    "  brights = 1.84*scaled_amps + 0.2*freqs + 2.0986\n",
    "  sizes = np.maximum(1.081*scaled_amps - 0.3533764, min_size)\n",
    "  streaks = np.maximum(1.56 - 0.54 * pdurs ** 0.21, min_streak)\n",
    "\n",
    "  I = np.zeros(shape=(n_space), dtype=np.float32)\n",
    "\n",
    "  for idx_space in range(n_space):\n",
    "    # (n_segments, n_elecs)\n",
    "    d2_el = ((axon_segments[idx_space, :, 0])[:, None] - x[None, :])**2. + ((axon_segments[idx_space, :, 1])[:, None] - y[None, :])**2. \n",
    "\n",
    "    # (n_segments, n_elecs)\n",
    "    electrode_intensities = brights * np.exp(-d2_el / ( 2. * rho**2. * sizes)) * ((axon_segments[idx_space, :, 2])[:, None] ** (1. / streaks)[None, :])\n",
    "    #                      (n_elec) * (n_segments, n_elecs)                  * (n_segments, n_elecs)\n",
    "\n",
    "    # (n_segments)\n",
    "    axon_intensities = np.sum(electrode_intensities, axis=1) # ith row is intensity at ith axon segment\n",
    "\n",
    "    # axon_intensities = jax.ops.index_update(axon_intensities, (axon_intensities < thresh_percept), 0.0)\n",
    "\n",
    "    I = jax.ops.index_update(I, idx_space, np.max(axon_intensities))\n",
    "#     I[idx_space] = np.max(axon_intensities)\n",
    "\n",
    "  return np.asarray(np.transpose(np.tile(I, (timesteps, 1))))\n"
   ]
  },
  {
   "cell_type": "code",
   "execution_count": null,
   "metadata": {},
   "outputs": [],
   "source": []
  }
 ],
 "metadata": {
  "accelerator": "GPU",
  "colab": {
   "collapsed_sections": [],
   "name": "jax.ipynb",
   "provenance": []
  },
  "kernelspec": {
   "display_name": "Python 3",
   "language": "python",
   "name": "python3"
  },
  "language_info": {
   "codemirror_mode": {
    "name": "ipython",
    "version": 3
   },
   "file_extension": ".py",
   "mimetype": "text/x-python",
   "name": "python",
   "nbconvert_exporter": "python",
   "pygments_lexer": "ipython3",
   "version": "3.6.9"
  }
 },
 "nbformat": 4,
 "nbformat_minor": 4
}
