{
  "nbformat": 4,
  "nbformat_minor": 0,
  "metadata": {
    "colab": {
      "name": "jax.ipynb",
      "provenance": [],
      "collapsed_sections": []
    },
    "kernelspec": {
      "name": "python3",
      "display_name": "Python 3"
    },
    "language_info": {
      "name": "python"
    },
    "accelerator": "GPU"
  },
  "cells": [
    {
      "cell_type": "code",
      "metadata": {
        "colab": {
          "base_uri": "https://localhost:8080/"
        },
        "id": "_-beiqjWaIIG",
        "outputId": "61a640b3-c9d1-4b54-ba1e-f360e45c84a0"
      },
      "source": [
        "!pip install git+https://github.com/jgranley/pulse2percept.git@biphasic_axon_map"
      ],
      "execution_count": null,
      "outputs": [
        {
          "output_type": "stream",
          "text": [
            "Collecting git+https://github.com/jgranley/pulse2percept.git@biphasic_axon_map\n",
            "  Cloning https://github.com/jgranley/pulse2percept.git (to revision biphasic_axon_map) to /tmp/pip-req-build-zm07zygf\n",
            "  Running command git clone -q https://github.com/jgranley/pulse2percept.git /tmp/pip-req-build-zm07zygf\n",
            "  Running command git checkout -b biphasic_axon_map --track origin/biphasic_axon_map\n",
            "  Switched to a new branch 'biphasic_axon_map'\n",
            "  Branch 'biphasic_axon_map' set up to track remote branch 'biphasic_axon_map' from 'origin'.\n",
            "Requirement already satisfied: numpy>=1.9.0 in /usr/local/lib/python3.7/dist-packages (from pulse2percept==0.7.0.dev0) (1.19.5)\n",
            "Requirement already satisfied: scipy>=1.0 in /usr/local/lib/python3.7/dist-packages (from pulse2percept==0.7.0.dev0) (1.4.1)\n",
            "Requirement already satisfied: joblib>=0.11 in /usr/local/lib/python3.7/dist-packages (from pulse2percept==0.7.0.dev0) (1.0.1)\n",
            "Building wheels for collected packages: pulse2percept\n",
            "  Building wheel for pulse2percept (setup.py) ... \u001b[?25l\u001b[?25hdone\n",
            "  Created wheel for pulse2percept: filename=pulse2percept-0.7.0.dev0-cp37-cp37m-linux_x86_64.whl size=2466446 sha256=d0a91a4c7ce68143df1bada93853826177293070c310d007c4aa25d8b729ae98\n",
            "  Stored in directory: /tmp/pip-ephem-wheel-cache-2kvg2sac/wheels/b6/56/59/aec0f0f6d427ed3818b41c001eec85807cd732341f3fddc724\n",
            "Successfully built pulse2percept\n",
            "Installing collected packages: pulse2percept\n",
            "Successfully installed pulse2percept-0.7.0.dev0\n"
          ],
          "name": "stdout"
        }
      ]
    },
    {
      "cell_type": "code",
      "metadata": {
        "id": "1K1hFCo6aQG7"
      },
      "source": [
        "from pulse2percept.models import AxonMapModel, BiphasicAxonMapModel, BiphasicAxonMapSpatial, Model, AxonMapSpatial\n",
        "from pulse2percept.stimuli import Stimulus, BiphasicPulseTrain\n",
        "from pulse2percept.implants import DiskElectrode, ProsthesisSystem, ArgusII, ElectrodeArray\n",
        "\n",
        "# import numpy as np\n",
        "import jax.numpy as np\n",
        "import jax\n",
        "from jax import jit"
      ],
      "execution_count": null,
      "outputs": []
    },
    {
      "cell_type": "markdown",
      "metadata": {
        "id": "t4wWbJMK_78O"
      },
      "source": [
        "## Where the magic happens"
      ]
    },
    {
      "cell_type": "code",
      "metadata": {
        "id": "9CA-CgDu_7fv"
      },
      "source": [
        "\"\"\"\n",
        "Function to be JIT'ed. \n",
        "Must be purely functional, and follow all rules at https://jax.readthedocs.io/en/latest/notebooks/Common_Gotchas_in_JAX.html\n",
        "\n",
        "\"\"\"\n",
        "def gpu_biphasic_axon_map(amps, freqs, pdurs, x, y, # Per ACTIVE electrode\n",
        "                          axon_segments, idx_start, idx_end, # ith segment goes from axon_segments[idx_start[i] : idx_end[i]]\n",
        "                          rho, axlambda, thresh_percept, timesteps):\n",
        "  deg2rad = 3.14159265358979323846 / 180.0\n",
        "\n",
        "  n_space = len(idx_start)\n",
        "\n",
        "  min_size = 10**2 / rho**2\n",
        "  min_streak = 10**2 / axlambda **2\n",
        "\n",
        "  # First get contributions from F, G, H per electrode\n",
        "  scaled_amps = amps / (0.8825 + 0.27*pdurs)\n",
        "  brights = 1.84*scaled_amps + 0.2*freqs + 2.0986\n",
        "  sizes = np.maximum(1.081*scaled_amps - 0.3533764, min_size)\n",
        "  streaks = np.maximum(1.56 - 0.54 * pdurs ** 0.21, min_streak)\n",
        "\n",
        "  I = np.zeros(shape=(n_space), dtype=np.float32)\n",
        "\n",
        "  for idx_space in range(n_space):\n",
        "    # (n_segments, n_elecs)\n",
        "    d2_el = ((axon_segments[idx_start[idx_space]:idx_end[idx_space], 0])[:, None] - x[None, :])**2. + ((axon_segments[idx_start[idx_space]:idx_end[idx_space], 1])[:, None] - y[None, :])**2. \n",
        "\n",
        "    # (n_segments, n_elecs)\n",
        "    electrode_intensities = brights * np.exp(-d2_el / ( 2. * rho**2. * sizes)) * ((axon_segments[idx_start[idx_space]:idx_end[idx_space], 2])[:, None] ** (1. / streaks)[None, :])\n",
        "    #                      (n_elec) * (n_segments, n_elecs)                  * (n_segments, n_elecs)\n",
        "\n",
        "    # (n_segments)\n",
        "    axon_intensities = np.sum(electrode_intensities, axis=1) # ith row is intensity at ith axon segment\n",
        "\n",
        "    # axon_intensities = jax.ops.index_update(axon_intensities, (axon_intensities < thresh_percept), 0.0)\n",
        "\n",
        "    I = jax.ops.index_update(I, idx_space, np.max(axon_intensities))\n",
        "\n",
        "  return np.asarray(np.transpose(np.tile(I, (timesteps, 1))))\n"
      ],
      "execution_count": null,
      "outputs": []
    },
    {
      "cell_type": "markdown",
      "metadata": {
        "id": "z-Dh4I-18-dj"
      },
      "source": [
        "#### Build model here in new spatial subclass, wrapped in BiphasicAxonMapGPU"
      ]
    },
    {
      "cell_type": "code",
      "metadata": {
        "id": "fZ1F83RBhBta"
      },
      "source": [
        "class BiphasicAxonMapGPUSpatial(AxonMapSpatial):\n",
        "  def __init__(self, **params):\n",
        "    super(BiphasicAxonMapGPUSpatial, self).__init__(**params)\n",
        "\n",
        "\n",
        "  def _predict_spatial(self, earray, stim):\n",
        "    assert isinstance(earray, ElectrodeArray)\n",
        "    assert isinstance(stim, Stimulus)\n",
        "\n",
        "    # get relevant stimulus properties\n",
        "    amps = np.array([stim.metadata['electrodes'][str(e)]['metadata']['amp'] for e in stim.electrodes], dtype=\"float32\")\n",
        "    freqs = np.array([stim.metadata['electrodes'][str(e)]['metadata']['freq'] for e in stim.electrodes], dtype=\"float32\")\n",
        "    pdurs = np.array([stim.metadata['electrodes'][str(e)]['metadata']['phase_dur'] for e in stim.electrodes], dtype=\"float32\")\n",
        "\n",
        "\n",
        "    return gpu_biphasic_axon_map(amps, freqs, pdurs,\n",
        "                                 np.array([earray[e].x for e in stim.electrodes], dtype=np.float32),\n",
        "                                 np.array([earray[e].y for e in stim.electrodes], dtype=np.float32),\n",
        "                                 self.axon_contrib,\n",
        "                                 self.axon_idx_start.astype(np.uint32),\n",
        "                                 self.axon_idx_end.astype(np.uint32),\n",
        "                                 self.rho, self.axlambda, self.thresh_percept, stim.shape[1])\n",
        "\n",
        "\n",
        "class BiphasicAxonMapGPU(Model):\n",
        "  def __init__(self, **params):\n",
        "    super(BiphasicAxonMapGPU, self).__init__(spatial=BiphasicAxonMapGPUSpatial(), temporal=None, **params)\n",
        "\n",
        "  def predict_percept(self, implant, t_percept=None):\n",
        "    # Make sure stimulus is a BiphasicPulseTrain:\n",
        "    if not isinstance(implant.stim, BiphasicPulseTrain):\n",
        "      # Could still be a stimulus where each electrode has a biphasic pulse train\n",
        "      for ele, params in implant.stim.metadata['electrodes'].items():\n",
        "        if params['type'] != BiphasicPulseTrain or params['metadata']['delay_dur'] != 0: \n",
        "          raise TypeError(\"All stimuli must be BiphasicPulseTrains with no delay dur (Failing electrode: %s)\" % (ele)) \n",
        "        \n",
        "    return super(BiphasicAxonMapGPU, self).predict_percept(implant, t_percept=t_percept)\n"
      ],
      "execution_count": null,
      "outputs": []
    },
    {
      "cell_type": "code",
      "metadata": {
        "colab": {
          "base_uri": "https://localhost:8080/"
        },
        "id": "d6XQ9yYDe6qc",
        "outputId": "3c3619dc-d88a-4dda-aa34-a40b636bb78a"
      },
      "source": [
        "model = BiphasicAxonMapGPU()\n",
        "model.build()\n",
        "implant = ArgusII()\n",
        "stim = Stimulus({\"A2\" : BiphasicPulseTrain(20, 1, 0.45)})\n",
        "implant.stim = stim\n",
        "\n",
        "model_orig = BiphasicAxonMapModel()\n",
        "model_orig.build()"
      ],
      "execution_count": null,
      "outputs": [
        {
          "output_type": "execute_result",
          "data": {
            "text/plain": [
              "BiphasicAxonMapModel(ax_segments_range=(0, 50), \n",
              "                     axlambda=200, \n",
              "                     axon_pickle='axons.pickle', \n",
              "                     axons_range=(-180, 180), \n",
              "                     bright_model=DefaultBrightModel, \n",
              "                     do_thresholding=True, engine='serial', \n",
              "                     eye='RE', grid_type='rectangular', \n",
              "                     ignore_pickle=False, \n",
              "                     loc_od=(15.5, 1.5), \n",
              "                     min_ax_sensitivity=0.001, \n",
              "                     n_ax_segments=500, n_axons=1000, \n",
              "                     n_jobs=1, rho=200, \n",
              "                     scheduler='threading', \n",
              "                     size_model=DefaultSizeModel, \n",
              "                     spatial=BiphasicAxonMapSpatial, \n",
              "                     streak_model=DefaultStreakModel, \n",
              "                     temporal=None, thresh_percept=0, \n",
              "                     use_legacy_build=False, verbose=True, \n",
              "                     xrange=(-15, 15), xystep=0.25, \n",
              "                     yrange=(-15, 15))"
            ]
          },
          "metadata": {
            "tags": []
          },
          "execution_count": 13
        }
      ]
    },
    {
      "cell_type": "code",
      "metadata": {
        "colab": {
          "base_uri": "https://localhost:8080/",
          "height": 300
        },
        "id": "bVl44xeBe_vX",
        "outputId": "e5b5f886-d342-43bb-a3f0-ea9034def03c"
      },
      "source": [
        "percept = model.predict_percept(implant)\n",
        "percept.plot()"
      ],
      "execution_count": null,
      "outputs": [
        {
          "output_type": "execute_result",
          "data": {
            "text/plain": [
              "<matplotlib.axes._subplots.AxesSubplot at 0x7f04d902ea10>"
            ]
          },
          "metadata": {
            "tags": []
          },
          "execution_count": 14
        },
        {
          "output_type": "display_data",
          "data": {
            "image/png": "[encoded data removed]",
            "text/plain": [
              "<Figure size 432x288 with 1 Axes>"
            ]
          },
          "metadata": {
            "tags": [],
            "needs_background": "light"
          }
        }
      ]
    },
    {
      "cell_type": "code",
      "metadata": {
        "colab": {
          "base_uri": "https://localhost:8080/",
          "height": 300
        },
        "id": "abLkwzi8f1jW",
        "outputId": "47895a3c-910d-461f-8437-50da9db153b9"
      },
      "source": [
        "%%timeit\n",
        "p1 = model_orig.predict_percept(implant)\n",
        "p1.plot()"
      ],
      "execution_count": null,
      "outputs": [
        {
          "output_type": "stream",
          "text": [
            "10 loops, best of 5: 30.5 ms per loop\n"
          ],
          "name": "stdout"
        },
        {
          "output_type": "display_data",
          "data": {
            "image/png": "[encoded data removed]",
            "text/plain": [
              "<Figure size 432x288 with 1 Axes>"
            ]
          },
          "metadata": {
            "tags": [],
            "needs_background": "light"
          }
        }
      ]
    },
    {
      "cell_type": "code",
      "metadata": {
        "colab": {
          "base_uri": "https://localhost:8080/",
          "height": 163
        },
        "id": "7isiC_Z53wUs",
        "outputId": "d30fa2fc-892b-4e55-fa95-d6ec1b27e2b8"
      },
      "source": [
        "np.max(percept.data - p1.data)"
      ],
      "execution_count": null,
      "outputs": [
        {
          "output_type": "error",
          "ename": "NameError",
          "evalue": "ignored",
          "traceback": [
            "\u001b[0;31m---------------------------------------------------------------------------\u001b[0m",
            "\u001b[0;31mNameError\u001b[0m                                 Traceback (most recent call last)",
            "\u001b[0;32m<ipython-input-17-b4f9de57adbd>\u001b[0m in \u001b[0;36m<module>\u001b[0;34m()\u001b[0m\n\u001b[0;32m----> 1\u001b[0;31m \u001b[0mnp\u001b[0m\u001b[0;34m.\u001b[0m\u001b[0mmax\u001b[0m\u001b[0;34m(\u001b[0m\u001b[0mpercept\u001b[0m\u001b[0;34m.\u001b[0m\u001b[0mdata\u001b[0m \u001b[0;34m-\u001b[0m \u001b[0mp1\u001b[0m\u001b[0;34m.\u001b[0m\u001b[0mdata\u001b[0m\u001b[0;34m)\u001b[0m\u001b[0;34m\u001b[0m\u001b[0;34m\u001b[0m\u001b[0m\n\u001b[0m",
            "\u001b[0;31mNameError\u001b[0m: name 'p1' is not defined"
          ]
        }
      ]
    },
    {
      "cell_type": "markdown",
      "metadata": {
        "id": "_dJKbxdrupId"
      },
      "source": [
        "## NUMPY"
      ]
    },
    {
      "cell_type": "code",
      "metadata": {
        "id": "GhGTjIcgnGdy"
      },
      "source": [
        "# numpy copy\n",
        "\"\"\"\n",
        "Function to be JIT'ed. \n",
        "Must be purely functional, and follow all rules at https://jax.readthedocs.io/en/latest/notebooks/Common_Gotchas_in_JAX.html\n",
        "\n",
        "\"\"\"\n",
        "def gpu_biphasic_axon_map(amps, freqs, pdurs, x, y, # Per ACTIVE electrode\n",
        "                          axon_segments, idx_start, idx_end, # ith segment goes from axon_segments[idx_start[i] : idx_end[i]]\n",
        "                          rho, axlambda, thresh_percept, timesteps):\n",
        "  deg2rad = 3.14159265358979323846 / 180.0\n",
        "\n",
        "  n_space = len(idx_start)\n",
        "\n",
        "  min_size = 10**2 / rho**2\n",
        "  min_streak = 10**2 / axlambda **2\n",
        "\n",
        "  # First get contributions from F, G, H per electrode\n",
        "  scaled_amps = amps / (0.8825 + 0.27*pdurs)\n",
        "  brights = 1.84*scaled_amps + 0.2*freqs + 2.0986\n",
        "  sizes = np.maximum(1.081*scaled_amps - 0.3533764, min_size)\n",
        "  streaks = np.maximum(1.56 - 0.54 * pdurs ** 0.21, min_streak)\n",
        "\n",
        "  I = np.zeros(shape=(n_space), dtype=np.float32)\n",
        "\n",
        "  for idx_space in range(n_space):\n",
        "    # (n_segments, n_elecs)\n",
        "    d2_el = ((axon_segments[idx_start[idx_space]:idx_end[idx_space], 0])[:, None] - x[None, :])**2. + ((axon_segments[idx_start[idx_space]:idx_end[idx_space], 1])[:, None] - y[None, :])**2. \n",
        "\n",
        "    # (n_segments, n_elecs)\n",
        "    electrode_intensities = brights * np.exp(-d2_el / ( 2. * rho**2. * sizes)) * ((axon_segments[idx_start[idx_space]:idx_end[idx_space], 2])[:, None] ** (1. / streaks)[None, :])\n",
        "    #                      (n_elec) * (n_segments, n_elecs)                  * (n_segments, n_elecs)\n",
        "\n",
        "    # (n_segments)\n",
        "    axon_intensities = np.sum(electrode_intensities, axis=1) # ith row is intensity at ith axon segment\n",
        "\n",
        "    axon_intensities[axon_intensities < thresh_percept] = 0.0\n",
        "\n",
        "    I[idx_space] = np.max(axon_intensities)\n",
        "\n",
        "  return np.asarray(np.transpose(np.tile(I, (timesteps, 1))))"
      ],
      "execution_count": null,
      "outputs": []
    },
    {
      "cell_type": "code",
      "metadata": {
        "id": "sPwmbJXOsfg0"
      },
      "source": [
        ""
      ],
      "execution_count": null,
      "outputs": []
    },
    {
      "cell_type": "markdown",
      "metadata": {
        "id": "m8yJwXqEYjXa"
      },
      "source": [
        "# The IP address the notebook server will listen on.\n",
        "c.NotebookApp.ip = '*'\n",
        "# The port the notebook server will listen on.\n",
        "c.NotebookApp.port = 8888\n",
        "# The full path to an SSL/TLS certificate file.\n",
        "c.NotebookApp.certfile = u'/home/mbeyeler/localhost.pem'\n",
        "# The string should be of the form type:salt:hashed-password.\n",
        "c.NotebookApp.password = u'sha1:b530c25cfd69:d259fe693010a32b343584091a105a6ade576291' # <= You'll need to replace with the results of creating a password with IPython!\n",
        "# Whether to open in a browser after starting. The specific browser used is\n",
        "# platform dependent and determined by the python standard library `webbrowser`\n",
        "# module, unless it is overridden using the --browser (NotebookApp.browser)\n",
        "# configuration option.\n",
        "c.NotebookApp.open_browser = False\n",
        "~/.jupyter/jupyter_notebook_config.py\n"
      ]
    },
    {
      "cell_type": "code",
      "metadata": {
        "id": "fwI6cyRbYm_y"
      },
      "source": [
        ""
      ],
      "execution_count": null,
      "outputs": []
    }
  ]
}