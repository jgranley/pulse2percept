{
 "cells": [
  {
   "cell_type": "code",
   "execution_count": 1,
   "metadata": {
    "id": "1K1hFCo6aQG7"
   },
   "outputs": [
    {
     "data": {
      "text/plain": [
       "[GpuDevice(id=0, process_index=0), GpuDevice(id=1, process_index=0)]"
      ]
     },
     "execution_count": 1,
     "metadata": {},
     "output_type": "execute_result"
    }
   ],
   "source": [
    "from pulse2percept.models import AxonMapModel, BiphasicAxonMapModel, BiphasicAxonMapSpatial, Model, AxonMapSpatial\n",
    "from pulse2percept.stimuli import Stimulus, BiphasicPulseTrain\n",
    "from pulse2percept.implants import DiskElectrode, ProsthesisSystem, ArgusII, ElectrodeArray\n",
    "\n",
    "import os\n",
    "# os.environ['JAX_PLATFORM_NAME']=\"cpu\" # uncomment to force cpu\n",
    "# os.environ['CUDA_VISIBLE_DEVICES']='1' # 3060\n",
    "\n",
    "# import numpy as np\n",
    "import jax.numpy as np\n",
    "import jax\n",
    "from jax import jit\n",
    "jax.devices()"
   ]
  },
  {
   "cell_type": "markdown",
   "metadata": {
    "id": "t4wWbJMK_78O"
   },
   "source": [
    "## Where the magic happens (Jax predict_percept())"
   ]
  },
  {
   "cell_type": "code",
   "execution_count": 10,
   "metadata": {
    "id": "9CA-CgDu_7fv"
   },
   "outputs": [],
   "source": [
    "\"\"\"\n",
    "Function to be JIT'ed. (Eventually)\n",
    "Must be purely functional, and follow all rules at https://jax.readthedocs.io/en/latest/notebooks/Common_Gotchas_in_JAX.html\n",
    "\n",
    "\"\"\"\n",
    "def gpu_biphasic_axon_map(amps, freqs, pdurs, x, y, # Per ACTIVE electrode\n",
    "                          axon_segments, idx_start, idx_end, # ith segment goes from axon_segments[idx_start[i] : idx_end[i]]\n",
    "                          rho, axlambda, thresh_percept, timesteps):\n",
    "  deg2rad = 3.14159265358979323846 / 180.0\n",
    "  n_space = len(idx_start)\n",
    "  min_size = 10**2 / rho**2\n",
    "  min_streak = 10**2 / axlambda **2\n",
    "\n",
    "  # First get contributions from F, G, H per electrode\n",
    "  scaled_amps = amps / (0.8825 + 0.27*pdurs)\n",
    "  brights = 1.84*scaled_amps + 0.2*freqs + 2.0986\n",
    "  sizes = np.maximum(1.081*scaled_amps - 0.3533764, min_size)\n",
    "  streaks = np.maximum(1.56 - 0.54 * pdurs ** 0.21, min_streak)\n",
    "\n",
    "#   I = np.zeros(shape=(n_space), dtype=np.float32)\n",
    "  I = []\n",
    "\n",
    "  for idx_space in range(n_space):\n",
    "    # (n_segments, n_elecs)\n",
    "    d2_el = ((axon_segments[idx_start[idx_space]:idx_end[idx_space], 0])[:, None] - x[None, :])**2. + ((axon_segments[idx_start[idx_space]:idx_end[idx_space], 1])[:, None] - y[None, :])**2. \n",
    "\n",
    "    # (n_segments, n_elecs)\n",
    "    electrode_intensities = brights * np.exp(-d2_el / ( 2. * rho**2. * sizes)) * ((axon_segments[idx_start[idx_space]:idx_end[idx_space], 2])[:, None] ** (1. / streaks)[None, :])\n",
    "    #                      (n_elec) * (n_segments, n_elecs)                  * (n_segments, n_elecs)\n",
    "\n",
    "    # (n_segments)\n",
    "    axon_intensities = np.sum(electrode_intensities, axis=1) # ith row is intensity at ith axon segment\n",
    "\n",
    "    # axon_intensities = jax.ops.index_update(axon_intensities, (axon_intensities < thresh_percept), 0.0)\n",
    "\n",
    "    I.append(np.max(axon_intensities))\n",
    "#     I = jax.ops.index_update(I, idx_space, np.max(axon_intensities))\n",
    "#     I[idx_space] = np.max(axon_intensities)\n",
    "\n",
    "  return np.asarray(np.transpose(np.tile(np.array(I, dtype=\"float32\"), (timesteps, 1))))\n"
   ]
  },
  {
   "cell_type": "markdown",
   "metadata": {
    "id": "z-Dh4I-18-dj"
   },
   "source": [
    "#### Build model here in new spatial subclass, wrapped in BiphasicAxonMapGPU"
   ]
  },
  {
   "cell_type": "code",
   "execution_count": 11,
   "metadata": {
    "id": "fZ1F83RBhBta"
   },
   "outputs": [],
   "source": [
    "class BiphasicAxonMapGPUSpatial(AxonMapSpatial):\n",
    "  def __init__(self, **params):\n",
    "    super(BiphasicAxonMapGPUSpatial, self).__init__(**params)\n",
    "\n",
    "\n",
    "  def _predict_spatial(self, earray, stim):\n",
    "    assert isinstance(earray, ElectrodeArray)\n",
    "    assert isinstance(stim, Stimulus)\n",
    "\n",
    "    # get relevant stimulus properties\n",
    "    amps = np.array([stim.metadata['electrodes'][str(e)]['metadata']['amp'] for e in stim.electrodes], dtype=\"float32\")\n",
    "    freqs = np.array([stim.metadata['electrodes'][str(e)]['metadata']['freq'] for e in stim.electrodes], dtype=\"float32\")\n",
    "    pdurs = np.array([stim.metadata['electrodes'][str(e)]['metadata']['phase_dur'] for e in stim.electrodes], dtype=\"float32\")\n",
    "\n",
    "    # make sure everything is JNP array not numpy\n",
    "    return gpu_biphasic_axon_map(amps, freqs, pdurs,\n",
    "                                 np.array([earray[e].x for e in stim.electrodes], dtype=np.float32),\n",
    "                                 np.array([earray[e].y for e in stim.electrodes], dtype=np.float32),\n",
    "                                 np.array(self.axon_contrib),\n",
    "                                 np.array(self.axon_idx_start, dtype=np.uint32),\n",
    "                                 np.array(self.axon_idx_end, dtype=np.uint32),\n",
    "                                 self.rho, self.axlambda, self.thresh_percept, stim.shape[1])\n",
    "\n",
    "\n",
    "class BiphasicAxonMapGPU(Model):\n",
    "  def __init__(self, **params):\n",
    "    super(BiphasicAxonMapGPU, self).__init__(spatial=BiphasicAxonMapGPUSpatial(), temporal=None, **params)\n",
    "\n",
    "  def predict_percept(self, implant, t_percept=None):\n",
    "    # Make sure stimulus is a BiphasicPulseTrain:\n",
    "    if not isinstance(implant.stim, BiphasicPulseTrain):\n",
    "      # Could still be a stimulus where each electrode has a biphasic pulse train\n",
    "      for ele, params in implant.stim.metadata['electrodes'].items():\n",
    "        if params['type'] != BiphasicPulseTrain or params['metadata']['delay_dur'] != 0: \n",
    "          raise TypeError(\"All stimuli must be BiphasicPulseTrains with no delay dur (Failing electrode: %s)\" % (ele)) \n",
    "        \n",
    "    return super(BiphasicAxonMapGPU, self).predict_percept(implant, t_percept=t_percept)\n"
   ]
  },
  {
   "cell_type": "markdown",
   "metadata": {},
   "source": [
    "# Timing"
   ]
  },
  {
   "cell_type": "code",
   "execution_count": 12,
   "metadata": {
    "colab": {
     "base_uri": "https://localhost:8080/"
    },
    "id": "d6XQ9yYDe6qc",
    "outputId": "3c3619dc-d88a-4dda-aa34-a40b636bb78a"
   },
   "outputs": [
    {
     "name": "stdout",
     "output_type": "stream",
     "text": [
      "\n"
     ]
    }
   ],
   "source": [
    "model = BiphasicAxonMapGPU()\n",
    "model.build()\n",
    "implant = ArgusII()\n",
    "stim = Stimulus({\"A2\" : BiphasicPulseTrain(20, 1, 0.45)})\n",
    "implant.stim = stim\n",
    "\n",
    "model_orig = BiphasicAxonMapModel()\n",
    "model_orig.build()\n",
    "print()"
   ]
  },
  {
   "cell_type": "code",
   "execution_count": 6,
   "metadata": {
    "colab": {
     "base_uri": "https://localhost:8080/",
     "height": 300
    },
    "id": "bVl44xeBe_vX",
    "outputId": "e5b5f886-d342-43bb-a3f0-ea9034def03c"
   },
   "outputs": [
    {
     "name": "stdout",
     "output_type": "stream",
     "text": [
      "407 ms ± 7.62 ms per loop (mean ± std. dev. of 7 runs, 1 loop each)\n"
     ]
    },
    {
     "data": {
      "image/png": "[encoded data removed]",
      "text/plain": [
       "<Figure size 432x288 with 1 Axes>"
      ]
     },
     "metadata": {
      "needs_background": "light"
     },
     "output_type": "display_data"
    }
   ],
   "source": [
    "%%timeit \n",
    "###########\n",
    "#  NUMPY  #\n",
    "###########\n",
    "# Run this cell for implemented predict_percept\n",
    "\n",
    "percept = model.predict_percept(implant)\n",
    "percept.plot()"
   ]
  },
  {
   "cell_type": "code",
   "execution_count": 13,
   "metadata": {},
   "outputs": [
    {
     "name": "stdout",
     "output_type": "stream",
     "text": [
      "3min 54s ± 3.51 s per loop (mean ± std. dev. of 7 runs, 1 loop each)\n"
     ]
    },
    {
     "data": {
      "image/png": "[encoded data removed]",
      "text/plain": [
       "<Figure size 432x288 with 1 Axes>"
      ]
     },
     "metadata": {
      "needs_background": "light"
     },
     "output_type": "display_data"
    }
   ],
   "source": [
    "%%timeit \n",
    "###########\n",
    "#   JAX   #\n",
    "###########\n",
    "## Run this cell for implemented predict_percept\n",
    "percept = model.predict_percept(implant)\n",
    "percept.plot()"
   ]
  },
  {
   "cell_type": "code",
   "execution_count": 7,
   "metadata": {
    "colab": {
     "base_uri": "https://localhost:8080/",
     "height": 300
    },
    "id": "abLkwzi8f1jW",
    "outputId": "47895a3c-910d-461f-8437-50da9db153b9"
   },
   "outputs": [
    {
     "name": "stdout",
     "output_type": "stream",
     "text": [
      "9.22 ms ± 101 µs per loop (mean ± std. dev. of 7 runs, 100 loops each)\n"
     ]
    },
    {
     "data": {
      "image/png": "[encoded data removed]",
      "text/plain": [
       "<Figure size 432x288 with 1 Axes>"
      ]
     },
     "metadata": {
      "needs_background": "light"
     },
     "output_type": "display_data"
    }
   ],
   "source": [
    "%%timeit \n",
    "###########\n",
    "# ORIGINAL #\n",
    "###########\n",
    "## Run this cell for original biphasic predict_percept\n",
    "p1 = model_orig.predict_percept(implant)\n",
    "p1.plot()"
   ]
  },
  {
   "cell_type": "code",
   "execution_count": 8,
   "metadata": {
    "colab": {
     "base_uri": "https://localhost:8080/",
     "height": 163
    },
    "id": "7isiC_Z53wUs",
    "outputId": "d30fa2fc-892b-4e55-fa95-d6ec1b27e2b8"
   },
   "outputs": [
    {
     "data": {
      "text/plain": [
       "0.0"
      ]
     },
     "execution_count": 8,
     "metadata": {},
     "output_type": "execute_result"
    }
   ],
   "source": [
    "#### Difference between implemented and original\n",
    "p1 = model_orig.predict_percept(implant)\n",
    "percept = model.predict_percept(implant)\n",
    "np.max(percept.data - p1.data)"
   ]
  },
  {
   "cell_type": "markdown",
   "metadata": {
    "id": "_dJKbxdrupId"
   },
   "source": [
    "## NUMPY copy"
   ]
  },
  {
   "cell_type": "code",
   "execution_count": null,
   "metadata": {
    "id": "GhGTjIcgnGdy"
   },
   "outputs": [],
   "source": [
    "# numpy copy\n",
    "\"\"\"\n",
    "Function to be JIT'ed. \n",
    "Must be purely functional, and follow all rules at https://jax.readthedocs.io/en/latest/notebooks/Common_Gotchas_in_JAX.html\n",
    "\n",
    "\"\"\"\n",
    "def gpu_biphasic_axon_map(amps, freqs, pdurs, x, y, # Per ACTIVE electrode\n",
    "                          axon_segments, idx_start, idx_end, # ith segment goes from axon_segments[idx_start[i] : idx_end[i]]\n",
    "                          rho, axlambda, thresh_percept, timesteps):\n",
    "  deg2rad = 3.14159265358979323846 / 180.0\n",
    "\n",
    "  n_space = len(idx_start)\n",
    "\n",
    "  min_size = 10**2 / rho**2\n",
    "  min_streak = 10**2 / axlambda **2\n",
    "\n",
    "  # First get contributions from F, G, H per electrode\n",
    "  scaled_amps = amps / (0.8825 + 0.27*pdurs)\n",
    "  brights = 1.84*scaled_amps + 0.2*freqs + 2.0986\n",
    "  sizes = np.maximum(1.081*scaled_amps - 0.3533764, min_size)\n",
    "  streaks = np.maximum(1.56 - 0.54 * pdurs ** 0.21, min_streak)\n",
    "\n",
    "  I = np.zeros(shape=(n_space), dtype=np.float32)\n",
    "\n",
    "  for idx_space in range(n_space):\n",
    "    # (n_segments, n_elecs)\n",
    "    d2_el = ((axon_segments[idx_start[idx_space]:idx_end[idx_space], 0])[:, None] - x[None, :])**2. + ((axon_segments[idx_start[idx_space]:idx_end[idx_space], 1])[:, None] - y[None, :])**2. \n",
    "\n",
    "    # (n_segments, n_elecs)\n",
    "    electrode_intensities = brights * np.exp(-d2_el / ( 2. * rho**2. * sizes)) * ((axon_segments[idx_start[idx_space]:idx_end[idx_space], 2])[:, None] ** (1. / streaks)[None, :])\n",
    "    #                      (n_elec) * (n_segments, n_elecs)                  * (n_segments, n_elecs)\n",
    "\n",
    "    # (n_segments)\n",
    "    axon_intensities = np.sum(electrode_intensities, axis=1) # ith row is intensity at ith axon segment\n",
    "\n",
    "    # axon_intensities = jax.ops.index_update(axon_intensities, (axon_intensities < thresh_percept), 0.0)\n",
    "\n",
    "#     I = jax.ops.index_update(I, idx_space, np.max(axon_intensities))\n",
    "    I[idx_space] = np.max(axon_intensities)\n",
    "\n",
    "  return np.asarray(np.transpose(np.tile(I, (timesteps, 1))))"
   ]
  },
  {
   "cell_type": "markdown",
   "metadata": {},
   "source": [
    "## Another sandbox copy\n"
   ]
  },
  {
   "cell_type": "code",
   "execution_count": null,
   "metadata": {
    "id": "sPwmbJXOsfg0"
   },
   "outputs": [],
   "source": [
    "\"\"\"\n",
    "Function to be JIT'ed. (Eventually)\n",
    "Must be purely functional, and follow all rules at https://jax.readthedocs.io/en/latest/notebooks/Common_Gotchas_in_JAX.html\n",
    "\n",
    "\"\"\"\n",
    "def gpu_biphasic_axon_map(amps, freqs, pdurs, x, y, # Per ACTIVE electrode\n",
    "                          axon_segments, idx_start, idx_end, # ith segment goes from axon_segments[idx_start[i] : idx_end[i]]\n",
    "                          rho, axlambda, thresh_percept, timesteps):\n",
    "    deg2rad = 3.14159265358979323846 / 180.0\n",
    "    n_space = len(idx_start)\n",
    "    min_size = 10**2 / rho**2\n",
    "    min_streak = 10**2 / axlambda **2\n",
    "\n",
    "    # First get contributions from F, G, H per electrode\n",
    "    scaled_amps = amps / (0.8825 + 0.27*pdurs)\n",
    "    brights = 1.84*scaled_amps + 0.2*freqs + 2.0986\n",
    "    sizes = np.maximum(1.081*scaled_amps - 0.3533764, min_size)\n",
    "    streaks = np.maximum(1.56 - 0.54 * pdurs ** 0.21, min_streak)\n",
    "    #   I = np.zeros(shape=(n_space), dtype=np.float32)\n",
    "    I = []\n",
    "\n",
    "    starts = idx_start[]\n",
    "    \n",
    "\n",
    "    \n",
    "    \n",
    "    \n",
    "    \n",
    "    for idx_space in range(n_space):\n",
    "        # (n_segments, n_elecs)\n",
    "        d2_el = ((axon_segments[idx_start[idx_space]:idx_end[idx_space], 0])[:, None] - x[None, :])**2. + ((axon_segments[idx_start[idx_space]:idx_end[idx_space], 1])[:, None] - y[None, :])**2. \n",
    "\n",
    "        # (n_segments, n_elecs)\n",
    "        electrode_intensities = brights * np.exp(-d2_el / ( 2. * rho**2. * sizes)) * ((axon_segments[idx_start[idx_space]:idx_end[idx_space], 2])[:, None] ** (1. / streaks)[None, :])\n",
    "        #                      (n_elec) * (n_segments, n_elecs)                  * (n_segments, n_elecs)\n",
    "\n",
    "        # (n_segments)\n",
    "        axon_intensities = np.sum(electrode_intensities, axis=1) # ith row is intensity at ith axon segment\n",
    "\n",
    "        # axon_intensities = jax.ops.index_update(axon_intensities, (axon_intensities < thresh_percept), 0.0)\n",
    "\n",
    "        I.append(np.max(axon_intensities))\n",
    "        #     I = jax.ops.index_update(I, idx_space, np.max(axon_intensities))\n",
    "        #     I[idx_space] = np.max(axon_intensities)\n",
    "\n",
    "    return np.asarray(np.transpose(np.tile(np.array(I, dtype=\"float32\"), (timesteps, 1))))"
   ]
  },
  {
   "cell_type": "code",
   "execution_count": null,
   "metadata": {
    "id": "fwI6cyRbYm_y"
   },
   "outputs": [],
   "source": []
  },
  {
   "cell_type": "code",
   "execution_count": null,
   "metadata": {},
   "outputs": [],
   "source": []
  },
  {
   "cell_type": "markdown",
   "metadata": {},
   "source": [
    "## Test Tensorflow (works)"
   ]
  },
  {
   "cell_type": "code",
   "execution_count": 2,
   "metadata": {},
   "outputs": [],
   "source": [
    "import tensorflow as tf\n",
    "import tensorflow_datasets as tfds"
   ]
  },
  {
   "cell_type": "code",
   "execution_count": 3,
   "metadata": {},
   "outputs": [],
   "source": [
    "(ds_train, ds_test), ds_info = tfds.load(\n",
    "    'mnist',\n",
    "    split=['train', 'test'],\n",
    "    shuffle_files=True,\n",
    "    as_supervised=True,\n",
    "    with_info=True,\n",
    ")"
   ]
  },
  {
   "cell_type": "code",
   "execution_count": 3,
   "metadata": {},
   "outputs": [],
   "source": [
    "def normalize_img(image, label):\n",
    "  \"\"\"Normalizes images: `uint8` -> `float32`.\"\"\"\n",
    "  return tf.cast(image, tf.float32) / 255., label\n",
    "\n",
    "ds_train = ds_train.map(\n",
    "    normalize_img, num_parallel_calls=tf.data.experimental.AUTOTUNE)\n",
    "ds_train = ds_train.cache()\n",
    "ds_train = ds_train.shuffle(ds_info.splits['train'].num_examples)\n",
    "ds_train = ds_train.batch(128)\n",
    "ds_train = ds_train.prefetch(tf.data.experimental.AUTOTUNE)"
   ]
  },
  {
   "cell_type": "code",
   "execution_count": 4,
   "metadata": {},
   "outputs": [],
   "source": [
    "ds_test = ds_test.map(\n",
    "    normalize_img, num_parallel_calls=tf.data.experimental.AUTOTUNE)\n",
    "ds_test = ds_test.batch(128)\n",
    "ds_test = ds_test.cache()\n",
    "ds_test = ds_test.prefetch(tf.data.experimental.AUTOTUNE)"
   ]
  },
  {
   "cell_type": "code",
   "execution_count": 5,
   "metadata": {},
   "outputs": [
    {
     "name": "stdout",
     "output_type": "stream",
     "text": [
      "Epoch 1/6\n",
      "469/469 [==============================] - 4s 3ms/step - loss: 0.3528 - sparse_categorical_accuracy: 0.9035 - val_loss: 0.2047 - val_sparse_categorical_accuracy: 0.9415\n",
      "Epoch 2/6\n",
      "469/469 [==============================] - 1s 3ms/step - loss: 0.1675 - sparse_categorical_accuracy: 0.9518 - val_loss: 0.1435 - val_sparse_categorical_accuracy: 0.9586\n",
      "Epoch 3/6\n",
      "469/469 [==============================] - 1s 3ms/step - loss: 0.1196 - sparse_categorical_accuracy: 0.9657 - val_loss: 0.1119 - val_sparse_categorical_accuracy: 0.9670\n",
      "Epoch 4/6\n",
      "469/469 [==============================] - 1s 2ms/step - loss: 0.0930 - sparse_categorical_accuracy: 0.9733 - val_loss: 0.0978 - val_sparse_categorical_accuracy: 0.9700\n",
      "Epoch 5/6\n",
      "469/469 [==============================] - 1s 3ms/step - loss: 0.0751 - sparse_categorical_accuracy: 0.9781 - val_loss: 0.0911 - val_sparse_categorical_accuracy: 0.9728\n",
      "Epoch 6/6\n",
      "469/469 [==============================] - 1s 3ms/step - loss: 0.0618 - sparse_categorical_accuracy: 0.9824 - val_loss: 0.0847 - val_sparse_categorical_accuracy: 0.9728\n"
     ]
    }
   ],
   "source": [
    "model = tf.keras.models.Sequential([\n",
    "  tf.keras.layers.Flatten(input_shape=(28, 28)),\n",
    "  tf.keras.layers.Dense(128,activation='relu'),\n",
    "  tf.keras.layers.Dense(10)\n",
    "])\n",
    "model.compile(\n",
    "    optimizer=tf.keras.optimizers.Adam(0.001),\n",
    "    loss=tf.keras.losses.SparseCategoricalCrossentropy(from_logits=True),\n",
    "    metrics=[tf.keras.metrics.SparseCategoricalAccuracy()],\n",
    ")\n",
    "\n",
    "with tf.device('/GPU:1'):\n",
    "    model.fit(ds_train, epochs=6, validation_data=ds_test)"
   ]
  },
  {
   "cell_type": "code",
   "execution_count": 4,
   "metadata": {},
   "outputs": [
    {
     "data": {
      "text/plain": [
       "[PhysicalDevice(name='/physical_device:CPU:0', device_type='CPU'),\n",
       " PhysicalDevice(name='/physical_device:GPU:0', device_type='GPU'),\n",
       " PhysicalDevice(name='/physical_device:GPU:1', device_type='GPU')]"
      ]
     },
     "execution_count": 4,
     "metadata": {},
     "output_type": "execute_result"
    }
   ],
   "source": [
    "tf.config.list_physical_devices()"
   ]
  },
  {
   "cell_type": "code",
   "execution_count": 7,
   "metadata": {},
   "outputs": [
    {
     "data": {
      "text/plain": [
       "'/device:GPU:0'"
      ]
     },
     "execution_count": 7,
     "metadata": {},
     "output_type": "execute_result"
    }
   ],
   "source": [
    "tf.test.gpu_device_name()"
   ]
  },
  {
   "cell_type": "code",
   "execution_count": null,
   "metadata": {},
   "outputs": [],
   "source": []
  }
 ],
 "metadata": {
  "accelerator": "GPU",
  "colab": {
   "collapsed_sections": [],
   "name": "jax.ipynb",
   "provenance": []
  },
  "kernelspec": {
   "display_name": "Python 3",
   "language": "python",
   "name": "python3"
  },
  "language_info": {
   "codemirror_mode": {
    "name": "ipython",
    "version": 3
   },
   "file_extension": ".py",
   "mimetype": "text/x-python",
   "name": "python",
   "nbconvert_exporter": "python",
   "pygments_lexer": "ipython3",
   "version": "3.6.9"
  }
 },
 "nbformat": 4,
 "nbformat_minor": 4
}
