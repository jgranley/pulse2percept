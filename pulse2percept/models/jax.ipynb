{
 "cells": [
  {
   "cell_type": "code",
   "execution_count": 1,
   "metadata": {
    "id": "1K1hFCo6aQG7"
   },
   "outputs": [],
   "source": [
    "from pulse2percept.models import AxonMapModel, BiphasicAxonMapModel, BiphasicAxonMapSpatial, Model, AxonMapSpatial\n",
    "from pulse2percept.stimuli import Stimulus, BiphasicPulseTrain\n",
    "from pulse2percept.implants import DiskElectrode, ProsthesisSystem, ArgusII, ElectrodeArray\n",
    "\n",
    "import numpy as np\n",
    "# import jax.numpy as np\n",
    "import jax\n",
    "from jax import jit"
   ]
  },
  {
   "cell_type": "markdown",
   "metadata": {
    "id": "t4wWbJMK_78O"
   },
   "source": [
    "## Where the magic happens (Jax predict_percept())"
   ]
  },
  {
   "cell_type": "code",
   "execution_count": 2,
   "metadata": {
    "id": "9CA-CgDu_7fv"
   },
   "outputs": [],
   "source": [
    "\"\"\"\n",
    "Function to be JIT'ed. \n",
    "Must be purely functional, and follow all rules at https://jax.readthedocs.io/en/latest/notebooks/Common_Gotchas_in_JAX.html\n",
    "\n",
    "\"\"\"\n",
    "def gpu_biphasic_axon_map(amps, freqs, pdurs, x, y, # Per ACTIVE electrode\n",
    "                          axon_segments, idx_start, idx_end, # ith segment goes from axon_segments[idx_start[i] : idx_end[i]]\n",
    "                          rho, axlambda, thresh_percept, timesteps):\n",
    "  deg2rad = 3.14159265358979323846 / 180.0\n",
    "\n",
    "  n_space = len(idx_start)\n",
    "\n",
    "  min_size = 10**2 / rho**2\n",
    "  min_streak = 10**2 / axlambda **2\n",
    "\n",
    "  # First get contributions from F, G, H per electrode\n",
    "  scaled_amps = amps / (0.8825 + 0.27*pdurs)\n",
    "  brights = 1.84*scaled_amps + 0.2*freqs + 2.0986\n",
    "  sizes = np.maximum(1.081*scaled_amps - 0.3533764, min_size)\n",
    "  streaks = np.maximum(1.56 - 0.54 * pdurs ** 0.21, min_streak)\n",
    "\n",
    "  I = np.zeros(shape=(n_space), dtype=np.float32)\n",
    "\n",
    "  for idx_space in range(n_space):\n",
    "    # (n_segments, n_elecs)\n",
    "    d2_el = ((axon_segments[idx_start[idx_space]:idx_end[idx_space], 0])[:, None] - x[None, :])**2. + ((axon_segments[idx_start[idx_space]:idx_end[idx_space], 1])[:, None] - y[None, :])**2. \n",
    "\n",
    "    # (n_segments, n_elecs)\n",
    "    electrode_intensities = brights * np.exp(-d2_el / ( 2. * rho**2. * sizes)) * ((axon_segments[idx_start[idx_space]:idx_end[idx_space], 2])[:, None] ** (1. / streaks)[None, :])\n",
    "    #                      (n_elec) * (n_segments, n_elecs)                  * (n_segments, n_elecs)\n",
    "\n",
    "    # (n_segments)\n",
    "    axon_intensities = np.sum(electrode_intensities, axis=1) # ith row is intensity at ith axon segment\n",
    "\n",
    "    # axon_intensities = jax.ops.index_update(axon_intensities, (axon_intensities < thresh_percept), 0.0)\n",
    "\n",
    "#     I = jax.ops.index_update(I, idx_space, np.max(axon_intensities))\n",
    "    I[idx_space] = np.max(axon_intensities)\n",
    "\n",
    "  return np.asarray(np.transpose(np.tile(I, (timesteps, 1))))\n"
   ]
  },
  {
   "cell_type": "markdown",
   "metadata": {
    "id": "z-Dh4I-18-dj"
   },
   "source": [
    "#### Build model here in new spatial subclass, wrapped in BiphasicAxonMapGPU"
   ]
  },
  {
   "cell_type": "code",
   "execution_count": 3,
   "metadata": {
    "id": "fZ1F83RBhBta"
   },
   "outputs": [],
   "source": [
    "class BiphasicAxonMapGPUSpatial(AxonMapSpatial):\n",
    "  def __init__(self, **params):\n",
    "    super(BiphasicAxonMapGPUSpatial, self).__init__(**params)\n",
    "\n",
    "\n",
    "  def _predict_spatial(self, earray, stim):\n",
    "    assert isinstance(earray, ElectrodeArray)\n",
    "    assert isinstance(stim, Stimulus)\n",
    "\n",
    "    # get relevant stimulus properties\n",
    "    amps = np.array([stim.metadata['electrodes'][str(e)]['metadata']['amp'] for e in stim.electrodes], dtype=\"float32\")\n",
    "    freqs = np.array([stim.metadata['electrodes'][str(e)]['metadata']['freq'] for e in stim.electrodes], dtype=\"float32\")\n",
    "    pdurs = np.array([stim.metadata['electrodes'][str(e)]['metadata']['phase_dur'] for e in stim.electrodes], dtype=\"float32\")\n",
    "\n",
    "\n",
    "    return gpu_biphasic_axon_map(amps, freqs, pdurs,\n",
    "                                 np.array([earray[e].x for e in stim.electrodes], dtype=np.float32),\n",
    "                                 np.array([earray[e].y for e in stim.electrodes], dtype=np.float32),\n",
    "                                 self.axon_contrib,\n",
    "                                 self.axon_idx_start.astype(np.uint32),\n",
    "                                 self.axon_idx_end.astype(np.uint32),\n",
    "                                 self.rho, self.axlambda, self.thresh_percept, stim.shape[1])\n",
    "\n",
    "\n",
    "class BiphasicAxonMapGPU(Model):\n",
    "  def __init__(self, **params):\n",
    "    super(BiphasicAxonMapGPU, self).__init__(spatial=BiphasicAxonMapGPUSpatial(), temporal=None, **params)\n",
    "\n",
    "  def predict_percept(self, implant, t_percept=None):\n",
    "    # Make sure stimulus is a BiphasicPulseTrain:\n",
    "    if not isinstance(implant.stim, BiphasicPulseTrain):\n",
    "      # Could still be a stimulus where each electrode has a biphasic pulse train\n",
    "      for ele, params in implant.stim.metadata['electrodes'].items():\n",
    "        if params['type'] != BiphasicPulseTrain or params['metadata']['delay_dur'] != 0: \n",
    "          raise TypeError(\"All stimuli must be BiphasicPulseTrains with no delay dur (Failing electrode: %s)\" % (ele)) \n",
    "        \n",
    "    return super(BiphasicAxonMapGPU, self).predict_percept(implant, t_percept=t_percept)\n"
   ]
  },
  {
   "cell_type": "code",
   "execution_count": 4,
   "metadata": {
    "colab": {
     "base_uri": "https://localhost:8080/"
    },
    "id": "d6XQ9yYDe6qc",
    "outputId": "3c3619dc-d88a-4dda-aa34-a40b636bb78a"
   },
   "outputs": [
    {
     "data": {
      "text/plain": [
       "BiphasicAxonMapModel(ax_segments_range=(0, 50), \n",
       "                     axlambda=200, \n",
       "                     axon_pickle='axons.pickle', \n",
       "                     axons_range=(-180, 180), \n",
       "                     bright_model=DefaultBrightModel, \n",
       "                     do_thresholding=False, \n",
       "                     engine='serial', eye='RE', \n",
       "                     grid_type='rectangular', \n",
       "                     ignore_pickle=False, \n",
       "                     loc_od=(15.5, 1.5), \n",
       "                     min_ax_sensitivity=0.001, \n",
       "                     n_ax_segments=500, n_axons=1000, \n",
       "                     n_jobs=1, rho=200, \n",
       "                     scheduler='threading', \n",
       "                     size_model=DefaultSizeModel, \n",
       "                     spatial=BiphasicAxonMapSpatial, \n",
       "                     streak_model=DefaultStreakModel, \n",
       "                     temporal=None, thresh_percept=0, \n",
       "                     verbose=True, xrange=(-15, 15), \n",
       "                     xystep=0.25, yrange=(-15, 15))"
      ]
     },
     "execution_count": 4,
     "metadata": {},
     "output_type": "execute_result"
    }
   ],
   "source": [
    "model = BiphasicAxonMapGPU()\n",
    "model.build()\n",
    "implant = ArgusII()\n",
    "stim = Stimulus({\"A2\" : BiphasicPulseTrain(20, 1, 0.45)})\n",
    "implant.stim = stim\n",
    "\n",
    "model_orig = BiphasicAxonMapModel()\n",
    "model_orig.build()\n",
    "print()"
   ]
  },
  {
   "cell_type": "code",
   "execution_count": 5,
   "metadata": {
    "colab": {
     "base_uri": "https://localhost:8080/",
     "height": 300
    },
    "id": "bVl44xeBe_vX",
    "outputId": "e5b5f886-d342-43bb-a3f0-ea9034def03c"
   },
   "outputs": [
    {
     "name": "stdout",
     "output_type": "stream",
     "text": [
      "426 ms ± 16.7 ms per loop (mean ± std. dev. of 7 runs, 1 loop each)\n"
     ]
    },
    {
     "data": {
      "image/png": "[encoded data removed]",
      "text/plain": [
       "<Figure size 432x288 with 1 Axes>"
      ]
     },
     "metadata": {
      "needs_background": "light"
     },
     "output_type": "display_data"
    }
   ],
   "source": [
    "%%timeit \n",
    "percept = model.predict_percept(implant)\n",
    "percept.plot()"
   ]
  },
  {
   "cell_type": "code",
   "execution_count": 6,
   "metadata": {
    "colab": {
     "base_uri": "https://localhost:8080/",
     "height": 300
    },
    "id": "abLkwzi8f1jW",
    "outputId": "47895a3c-910d-461f-8437-50da9db153b9"
   },
   "outputs": [
    {
     "ename": "NameError",
     "evalue": "name 'fast_biphasic_axon_map' is not defined",
     "output_type": "error",
     "traceback": [
      "\u001b[0;31m---------------------------------------------------------------------------\u001b[0m",
      "\u001b[0;31mNameError\u001b[0m                                 Traceback (most recent call last)",
      "\u001b[0;32m<ipython-input-6-2c61f626c33f>\u001b[0m in \u001b[0;36m<module>\u001b[0;34m\u001b[0m\n\u001b[0;32m----> 1\u001b[0;31m \u001b[0mget_ipython\u001b[0m\u001b[0;34m(\u001b[0m\u001b[0;34m)\u001b[0m\u001b[0;34m.\u001b[0m\u001b[0mrun_cell_magic\u001b[0m\u001b[0;34m(\u001b[0m\u001b[0;34m'timeit'\u001b[0m\u001b[0;34m,\u001b[0m \u001b[0;34m''\u001b[0m\u001b[0;34m,\u001b[0m \u001b[0;34m'p1 = model_orig.predict_percept(implant)\\np1.plot()\\n'\u001b[0m\u001b[0;34m)\u001b[0m\u001b[0;34m\u001b[0m\u001b[0;34m\u001b[0m\u001b[0m\n\u001b[0m",
      "\u001b[0;32m~/p2p_gpu/lib/python3.6/site-packages/IPython/core/interactiveshell.py\u001b[0m in \u001b[0;36mrun_cell_magic\u001b[0;34m(self, magic_name, line, cell)\u001b[0m\n\u001b[1;32m   2369\u001b[0m             \u001b[0;32mwith\u001b[0m \u001b[0mself\u001b[0m\u001b[0;34m.\u001b[0m\u001b[0mbuiltin_trap\u001b[0m\u001b[0;34m:\u001b[0m\u001b[0;34m\u001b[0m\u001b[0;34m\u001b[0m\u001b[0m\n\u001b[1;32m   2370\u001b[0m                 \u001b[0margs\u001b[0m \u001b[0;34m=\u001b[0m \u001b[0;34m(\u001b[0m\u001b[0mmagic_arg_s\u001b[0m\u001b[0;34m,\u001b[0m \u001b[0mcell\u001b[0m\u001b[0;34m)\u001b[0m\u001b[0;34m\u001b[0m\u001b[0;34m\u001b[0m\u001b[0m\n\u001b[0;32m-> 2371\u001b[0;31m                 \u001b[0mresult\u001b[0m \u001b[0;34m=\u001b[0m \u001b[0mfn\u001b[0m\u001b[0;34m(\u001b[0m\u001b[0;34m*\u001b[0m\u001b[0margs\u001b[0m\u001b[0;34m,\u001b[0m \u001b[0;34m**\u001b[0m\u001b[0mkwargs\u001b[0m\u001b[0;34m)\u001b[0m\u001b[0;34m\u001b[0m\u001b[0;34m\u001b[0m\u001b[0m\n\u001b[0m\u001b[1;32m   2372\u001b[0m             \u001b[0;32mreturn\u001b[0m \u001b[0mresult\u001b[0m\u001b[0;34m\u001b[0m\u001b[0;34m\u001b[0m\u001b[0m\n\u001b[1;32m   2373\u001b[0m \u001b[0;34m\u001b[0m\u001b[0m\n",
      "\u001b[0;32m<decorator-gen-60>\u001b[0m in \u001b[0;36mtimeit\u001b[0;34m(self, line, cell, local_ns)\u001b[0m\n",
      "\u001b[0;32m~/p2p_gpu/lib/python3.6/site-packages/IPython/core/magic.py\u001b[0m in \u001b[0;36m<lambda>\u001b[0;34m(f, *a, **k)\u001b[0m\n\u001b[1;32m    185\u001b[0m     \u001b[0;31m# but it's overkill for just that one bit of state.\u001b[0m\u001b[0;34m\u001b[0m\u001b[0;34m\u001b[0m\u001b[0;34m\u001b[0m\u001b[0m\n\u001b[1;32m    186\u001b[0m     \u001b[0;32mdef\u001b[0m \u001b[0mmagic_deco\u001b[0m\u001b[0;34m(\u001b[0m\u001b[0marg\u001b[0m\u001b[0;34m)\u001b[0m\u001b[0;34m:\u001b[0m\u001b[0;34m\u001b[0m\u001b[0;34m\u001b[0m\u001b[0m\n\u001b[0;32m--> 187\u001b[0;31m         \u001b[0mcall\u001b[0m \u001b[0;34m=\u001b[0m \u001b[0;32mlambda\u001b[0m \u001b[0mf\u001b[0m\u001b[0;34m,\u001b[0m \u001b[0;34m*\u001b[0m\u001b[0ma\u001b[0m\u001b[0;34m,\u001b[0m \u001b[0;34m**\u001b[0m\u001b[0mk\u001b[0m\u001b[0;34m:\u001b[0m \u001b[0mf\u001b[0m\u001b[0;34m(\u001b[0m\u001b[0;34m*\u001b[0m\u001b[0ma\u001b[0m\u001b[0;34m,\u001b[0m \u001b[0;34m**\u001b[0m\u001b[0mk\u001b[0m\u001b[0;34m)\u001b[0m\u001b[0;34m\u001b[0m\u001b[0;34m\u001b[0m\u001b[0m\n\u001b[0m\u001b[1;32m    188\u001b[0m \u001b[0;34m\u001b[0m\u001b[0m\n\u001b[1;32m    189\u001b[0m         \u001b[0;32mif\u001b[0m \u001b[0mcallable\u001b[0m\u001b[0;34m(\u001b[0m\u001b[0marg\u001b[0m\u001b[0;34m)\u001b[0m\u001b[0;34m:\u001b[0m\u001b[0;34m\u001b[0m\u001b[0;34m\u001b[0m\u001b[0m\n",
      "\u001b[0;32m~/p2p_gpu/lib/python3.6/site-packages/IPython/core/magics/execution.py\u001b[0m in \u001b[0;36mtimeit\u001b[0;34m(self, line, cell, local_ns)\u001b[0m\n\u001b[1;32m   1161\u001b[0m             \u001b[0;32mfor\u001b[0m \u001b[0mindex\u001b[0m \u001b[0;32min\u001b[0m \u001b[0mrange\u001b[0m\u001b[0;34m(\u001b[0m\u001b[0;36m0\u001b[0m\u001b[0;34m,\u001b[0m \u001b[0;36m10\u001b[0m\u001b[0;34m)\u001b[0m\u001b[0;34m:\u001b[0m\u001b[0;34m\u001b[0m\u001b[0;34m\u001b[0m\u001b[0m\n\u001b[1;32m   1162\u001b[0m                 \u001b[0mnumber\u001b[0m \u001b[0;34m=\u001b[0m \u001b[0;36m10\u001b[0m \u001b[0;34m**\u001b[0m \u001b[0mindex\u001b[0m\u001b[0;34m\u001b[0m\u001b[0;34m\u001b[0m\u001b[0m\n\u001b[0;32m-> 1163\u001b[0;31m                 \u001b[0mtime_number\u001b[0m \u001b[0;34m=\u001b[0m \u001b[0mtimer\u001b[0m\u001b[0;34m.\u001b[0m\u001b[0mtimeit\u001b[0m\u001b[0;34m(\u001b[0m\u001b[0mnumber\u001b[0m\u001b[0;34m)\u001b[0m\u001b[0;34m\u001b[0m\u001b[0;34m\u001b[0m\u001b[0m\n\u001b[0m\u001b[1;32m   1164\u001b[0m                 \u001b[0;32mif\u001b[0m \u001b[0mtime_number\u001b[0m \u001b[0;34m>=\u001b[0m \u001b[0;36m0.2\u001b[0m\u001b[0;34m:\u001b[0m\u001b[0;34m\u001b[0m\u001b[0;34m\u001b[0m\u001b[0m\n\u001b[1;32m   1165\u001b[0m                     \u001b[0;32mbreak\u001b[0m\u001b[0;34m\u001b[0m\u001b[0;34m\u001b[0m\u001b[0m\n",
      "\u001b[0;32m~/p2p_gpu/lib/python3.6/site-packages/IPython/core/magics/execution.py\u001b[0m in \u001b[0;36mtimeit\u001b[0;34m(self, number)\u001b[0m\n\u001b[1;32m    167\u001b[0m         \u001b[0mgc\u001b[0m\u001b[0;34m.\u001b[0m\u001b[0mdisable\u001b[0m\u001b[0;34m(\u001b[0m\u001b[0;34m)\u001b[0m\u001b[0;34m\u001b[0m\u001b[0;34m\u001b[0m\u001b[0m\n\u001b[1;32m    168\u001b[0m         \u001b[0;32mtry\u001b[0m\u001b[0;34m:\u001b[0m\u001b[0;34m\u001b[0m\u001b[0;34m\u001b[0m\u001b[0m\n\u001b[0;32m--> 169\u001b[0;31m             \u001b[0mtiming\u001b[0m \u001b[0;34m=\u001b[0m \u001b[0mself\u001b[0m\u001b[0;34m.\u001b[0m\u001b[0minner\u001b[0m\u001b[0;34m(\u001b[0m\u001b[0mit\u001b[0m\u001b[0;34m,\u001b[0m \u001b[0mself\u001b[0m\u001b[0;34m.\u001b[0m\u001b[0mtimer\u001b[0m\u001b[0;34m)\u001b[0m\u001b[0;34m\u001b[0m\u001b[0;34m\u001b[0m\u001b[0m\n\u001b[0m\u001b[1;32m    170\u001b[0m         \u001b[0;32mfinally\u001b[0m\u001b[0;34m:\u001b[0m\u001b[0;34m\u001b[0m\u001b[0;34m\u001b[0m\u001b[0m\n\u001b[1;32m    171\u001b[0m             \u001b[0;32mif\u001b[0m \u001b[0mgcold\u001b[0m\u001b[0;34m:\u001b[0m\u001b[0;34m\u001b[0m\u001b[0;34m\u001b[0m\u001b[0m\n",
      "\u001b[0;32m<magic-timeit>\u001b[0m in \u001b[0;36minner\u001b[0;34m(_it, _timer)\u001b[0m\n",
      "\u001b[0;32m~/p2p_gpu/lib/python3.6/site-packages/pulse2percept/models/granley2021.py\u001b[0m in \u001b[0;36mpredict_percept\u001b[0;34m(self, implant, t_percept)\u001b[0m\n\u001b[1;32m    233\u001b[0m \u001b[0;34m\u001b[0m\u001b[0m\n\u001b[1;32m    234\u001b[0m         return super(BiphasicAxonMapModel, self).predict_percept(implant,\n\u001b[0;32m--> 235\u001b[0;31m                                                          t_percept=t_percept)\n\u001b[0m\u001b[1;32m    236\u001b[0m \u001b[0;34m\u001b[0m\u001b[0m\n",
      "\u001b[0;32m~/p2p_gpu/lib/python3.6/site-packages/pulse2percept/models/base.py\u001b[0m in \u001b[0;36mpredict_percept\u001b[0;34m(self, implant, t_percept)\u001b[0m\n\u001b[1;32m    844\u001b[0m                 \u001b[0mresp\u001b[0m \u001b[0;34m=\u001b[0m \u001b[0mself\u001b[0m\u001b[0;34m.\u001b[0m\u001b[0mtemporal\u001b[0m\u001b[0;34m.\u001b[0m\u001b[0mpredict_percept\u001b[0m\u001b[0;34m(\u001b[0m\u001b[0mresp\u001b[0m\u001b[0;34m,\u001b[0m \u001b[0mt_percept\u001b[0m\u001b[0;34m=\u001b[0m\u001b[0mt_percept\u001b[0m\u001b[0;34m)\u001b[0m\u001b[0;34m\u001b[0m\u001b[0;34m\u001b[0m\u001b[0m\n\u001b[1;32m    845\u001b[0m         \u001b[0;32melif\u001b[0m \u001b[0mself\u001b[0m\u001b[0;34m.\u001b[0m\u001b[0mhas_space\u001b[0m\u001b[0;34m:\u001b[0m\u001b[0;34m\u001b[0m\u001b[0;34m\u001b[0m\u001b[0m\n\u001b[0;32m--> 846\u001b[0;31m             \u001b[0mresp\u001b[0m \u001b[0;34m=\u001b[0m \u001b[0mself\u001b[0m\u001b[0;34m.\u001b[0m\u001b[0mspatial\u001b[0m\u001b[0;34m.\u001b[0m\u001b[0mpredict_percept\u001b[0m\u001b[0;34m(\u001b[0m\u001b[0mimplant\u001b[0m\u001b[0;34m,\u001b[0m \u001b[0mt_percept\u001b[0m\u001b[0;34m=\u001b[0m\u001b[0mt_percept\u001b[0m\u001b[0;34m)\u001b[0m\u001b[0;34m\u001b[0m\u001b[0;34m\u001b[0m\u001b[0m\n\u001b[0m\u001b[1;32m    847\u001b[0m         \u001b[0;32melif\u001b[0m \u001b[0mself\u001b[0m\u001b[0;34m.\u001b[0m\u001b[0mhas_time\u001b[0m\u001b[0;34m:\u001b[0m\u001b[0;34m\u001b[0m\u001b[0;34m\u001b[0m\u001b[0m\n\u001b[1;32m    848\u001b[0m             resp = self.temporal.predict_percept(implant.stim,\n",
      "\u001b[0;32m~/p2p_gpu/lib/python3.6/site-packages/pulse2percept/models/base.py\u001b[0m in \u001b[0;36mpredict_percept\u001b[0;34m(self, implant, t_percept)\u001b[0m\n\u001b[1;32m    310\u001b[0m                                 \u001b[0melectrodes\u001b[0m\u001b[0;34m=\u001b[0m\u001b[0mstim\u001b[0m\u001b[0;34m.\u001b[0m\u001b[0melectrodes\u001b[0m\u001b[0;34m,\u001b[0m \u001b[0mtime\u001b[0m\u001b[0;34m=\u001b[0m\u001b[0mt_percept\u001b[0m\u001b[0;34m,\u001b[0m\u001b[0;34m\u001b[0m\u001b[0;34m\u001b[0m\u001b[0m\n\u001b[1;32m    311\u001b[0m                                 metadata=stim.metadata)\n\u001b[0;32m--> 312\u001b[0;31m             \u001b[0mresp\u001b[0m \u001b[0;34m=\u001b[0m \u001b[0mself\u001b[0m\u001b[0;34m.\u001b[0m\u001b[0m_predict_spatial\u001b[0m\u001b[0;34m(\u001b[0m\u001b[0mimplant\u001b[0m\u001b[0;34m.\u001b[0m\u001b[0mearray\u001b[0m\u001b[0;34m,\u001b[0m \u001b[0mstim\u001b[0m\u001b[0;34m)\u001b[0m\u001b[0;34m\u001b[0m\u001b[0;34m\u001b[0m\u001b[0m\n\u001b[0m\u001b[1;32m    313\u001b[0m         return Percept(resp.reshape(list(self.grid.x.shape) + [-1]),\n\u001b[1;32m    314\u001b[0m                        \u001b[0mspace\u001b[0m\u001b[0;34m=\u001b[0m\u001b[0mself\u001b[0m\u001b[0;34m.\u001b[0m\u001b[0mgrid\u001b[0m\u001b[0;34m,\u001b[0m \u001b[0mtime\u001b[0m\u001b[0;34m=\u001b[0m\u001b[0mt_percept\u001b[0m\u001b[0;34m,\u001b[0m\u001b[0;34m\u001b[0m\u001b[0;34m\u001b[0m\u001b[0m\n",
      "\u001b[0;32m~/p2p_gpu/lib/python3.6/site-packages/pulse2percept/models/granley2021.py\u001b[0m in \u001b[0;36m_predict_spatial\u001b[0;34m(self, earray, stim)\u001b[0m\n\u001b[1;32m    174\u001b[0m \u001b[0;34m\u001b[0m\u001b[0m\n\u001b[1;32m    175\u001b[0m         \u001b[0;31m# print(np.max(np.array([bright_effects, size_effects, streak_effects])))\u001b[0m\u001b[0;34m\u001b[0m\u001b[0;34m\u001b[0m\u001b[0;34m\u001b[0m\u001b[0m\n\u001b[0;32m--> 176\u001b[0;31m         return fast_biphasic_axon_map(np.array(amps, dtype=np.float32),\n\u001b[0m\u001b[1;32m    177\u001b[0m                                       \u001b[0mnp\u001b[0m\u001b[0;34m.\u001b[0m\u001b[0marray\u001b[0m\u001b[0;34m(\u001b[0m\u001b[0mbright_effects\u001b[0m\u001b[0;34m,\u001b[0m \u001b[0mdtype\u001b[0m\u001b[0;34m=\u001b[0m\u001b[0mnp\u001b[0m\u001b[0;34m.\u001b[0m\u001b[0mfloat32\u001b[0m\u001b[0;34m)\u001b[0m\u001b[0;34m,\u001b[0m\u001b[0;34m\u001b[0m\u001b[0;34m\u001b[0m\u001b[0m\n\u001b[1;32m    178\u001b[0m                                       \u001b[0mnp\u001b[0m\u001b[0;34m.\u001b[0m\u001b[0marray\u001b[0m\u001b[0;34m(\u001b[0m\u001b[0msize_effects\u001b[0m\u001b[0;34m,\u001b[0m \u001b[0mdtype\u001b[0m\u001b[0;34m=\u001b[0m\u001b[0mnp\u001b[0m\u001b[0;34m.\u001b[0m\u001b[0mfloat32\u001b[0m\u001b[0;34m)\u001b[0m\u001b[0;34m,\u001b[0m\u001b[0;34m\u001b[0m\u001b[0;34m\u001b[0m\u001b[0m\n",
      "\u001b[0;31mNameError\u001b[0m: name 'fast_biphasic_axon_map' is not defined"
     ]
    }
   ],
   "source": [
    "%%timeit\n",
    "p1 = model_orig.predict_percept(implant)\n",
    "p1.plot()"
   ]
  },
  {
   "cell_type": "code",
   "execution_count": null,
   "metadata": {
    "colab": {
     "base_uri": "https://localhost:8080/",
     "height": 163
    },
    "id": "7isiC_Z53wUs",
    "outputId": "d30fa2fc-892b-4e55-fa95-d6ec1b27e2b8"
   },
   "outputs": [
    {
     "ename": "NameError",
     "evalue": "ignored",
     "output_type": "error",
     "traceback": [
      "\u001b[0;31m---------------------------------------------------------------------------\u001b[0m",
      "\u001b[0;31mNameError\u001b[0m                                 Traceback (most recent call last)",
      "\u001b[0;32m<ipython-input-17-b4f9de57adbd>\u001b[0m in \u001b[0;36m<module>\u001b[0;34m()\u001b[0m\n\u001b[0;32m----> 1\u001b[0;31m \u001b[0mnp\u001b[0m\u001b[0;34m.\u001b[0m\u001b[0mmax\u001b[0m\u001b[0;34m(\u001b[0m\u001b[0mpercept\u001b[0m\u001b[0;34m.\u001b[0m\u001b[0mdata\u001b[0m \u001b[0;34m-\u001b[0m \u001b[0mp1\u001b[0m\u001b[0;34m.\u001b[0m\u001b[0mdata\u001b[0m\u001b[0;34m)\u001b[0m\u001b[0;34m\u001b[0m\u001b[0;34m\u001b[0m\u001b[0m\n\u001b[0m",
      "\u001b[0;31mNameError\u001b[0m: name 'p1' is not defined"
     ]
    }
   ],
   "source": [
    "np.max(percept.data - p1.data)"
   ]
  },
  {
   "cell_type": "markdown",
   "metadata": {
    "id": "_dJKbxdrupId"
   },
   "source": [
    "## NUMPY"
   ]
  },
  {
   "cell_type": "code",
   "execution_count": null,
   "metadata": {
    "id": "GhGTjIcgnGdy"
   },
   "outputs": [],
   "source": [
    "# numpy copy\n",
    "\"\"\"\n",
    "Function to be JIT'ed. \n",
    "Must be purely functional, and follow all rules at https://jax.readthedocs.io/en/latest/notebooks/Common_Gotchas_in_JAX.html\n",
    "\n",
    "\"\"\"\n",
    "def gpu_biphasic_axon_map(amps, freqs, pdurs, x, y, # Per ACTIVE electrode\n",
    "                          axon_segments, idx_start, idx_end, # ith segment goes from axon_segments[idx_start[i] : idx_end[i]]\n",
    "                          rho, axlambda, thresh_percept, timesteps):\n",
    "  deg2rad = 3.14159265358979323846 / 180.0\n",
    "\n",
    "  n_space = len(idx_start)\n",
    "\n",
    "  min_size = 10**2 / rho**2\n",
    "  min_streak = 10**2 / axlambda **2\n",
    "\n",
    "  # First get contributions from F, G, H per electrode\n",
    "  scaled_amps = amps / (0.8825 + 0.27*pdurs)\n",
    "  brights = 1.84*scaled_amps + 0.2*freqs + 2.0986\n",
    "  sizes = np.maximum(1.081*scaled_amps - 0.3533764, min_size)\n",
    "  streaks = np.maximum(1.56 - 0.54 * pdurs ** 0.21, min_streak)\n",
    "\n",
    "  I = np.zeros(shape=(n_space), dtype=np.float32)\n",
    "\n",
    "  for idx_space in range(n_space):\n",
    "    # (n_segments, n_elecs)\n",
    "    d2_el = ((axon_segments[idx_start[idx_space]:idx_end[idx_space], 0])[:, None] - x[None, :])**2. + ((axon_segments[idx_start[idx_space]:idx_end[idx_space], 1])[:, None] - y[None, :])**2. \n",
    "\n",
    "    # (n_segments, n_elecs)\n",
    "    electrode_intensities = brights * np.exp(-d2_el / ( 2. * rho**2. * sizes)) * ((axon_segments[idx_start[idx_space]:idx_end[idx_space], 2])[:, None] ** (1. / streaks)[None, :])\n",
    "    #                      (n_elec) * (n_segments, n_elecs)                  * (n_segments, n_elecs)\n",
    "\n",
    "    # (n_segments)\n",
    "    axon_intensities = np.sum(electrode_intensities, axis=1) # ith row is intensity at ith axon segment\n",
    "\n",
    "    axon_intensities[axon_intensities < thresh_percept] = 0.0\n",
    "\n",
    "    I[idx_space] = np.max(axon_intensities)\n",
    "\n",
    "  return np.asarray(np.transpose(np.tile(I, (timesteps, 1))))"
   ]
  },
  {
   "cell_type": "code",
   "execution_count": null,
   "metadata": {
    "id": "sPwmbJXOsfg0"
   },
   "outputs": [],
   "source": []
  },
  {
   "cell_type": "markdown",
   "metadata": {
    "id": "m8yJwXqEYjXa"
   },
   "source": [
    "# The IP address the notebook server will listen on.\n",
    "c.NotebookApp.ip = '*'\n",
    "# The port the notebook server will listen on.\n",
    "c.NotebookApp.port = 8888\n",
    "# The full path to an SSL/TLS certificate file.\n",
    "c.NotebookApp.certfile = u'/home/mbeyeler/localhost.pem'\n",
    "# The string should be of the form type:salt:hashed-password.\n",
    "c.NotebookApp.password = u'sha1:b530c25cfd69:d259fe693010a32b343584091a105a6ade576291' # <= You'll need to replace with the results of creating a password with IPython!\n",
    "# Whether to open in a browser after starting. The specific browser used is\n",
    "# platform dependent and determined by the python standard library `webbrowser`\n",
    "# module, unless it is overridden using the --browser (NotebookApp.browser)\n",
    "# configuration option.\n",
    "c.NotebookApp.open_browser = False\n",
    "~/.jupyter/jupyter_notebook_config.py\n"
   ]
  },
  {
   "cell_type": "code",
   "execution_count": null,
   "metadata": {
    "id": "fwI6cyRbYm_y"
   },
   "outputs": [],
   "source": []
  }
 ],
 "metadata": {
  "accelerator": "GPU",
  "colab": {
   "collapsed_sections": [],
   "name": "jax.ipynb",
   "provenance": []
  },
  "kernelspec": {
   "display_name": "Python 3",
   "language": "python",
   "name": "python3"
  },
  "language_info": {
   "codemirror_mode": {
    "name": "ipython",
    "version": 3
   },
   "file_extension": ".py",
   "mimetype": "text/x-python",
   "name": "python",
   "nbconvert_exporter": "python",
   "pygments_lexer": "ipython3",
   "version": "3.6.9"
  }
 },
 "nbformat": 4,
 "nbformat_minor": 4
}
