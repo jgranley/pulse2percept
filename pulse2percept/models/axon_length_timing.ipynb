{
 "cells": [
  {
   "cell_type": "markdown",
   "metadata": {},
   "source": [
    "## Utils"
   ]
  },
  {
   "cell_type": "code",
   "execution_count": 23,
   "metadata": {},
   "outputs": [],
   "source": [
    "import time\n",
    "import random\n",
    "from pulse2percept.stimuli import Stimulus, BiphasicPulseTrain\n",
    "\n",
    "def rand_stim(implant, n_electrodes=1):\n",
    "    maxamp = 15\n",
    "    maxfreq = 200\n",
    "    elecs = set()\n",
    "    while len(elecs) < n_electrodes:\n",
    "        # add another electrode\n",
    "        elecs.add(random.choice(list(implant.electrode_names)))\n",
    "    stim = {}\n",
    "    for elec in elecs:\n",
    "        amp = random.random() * maxamp\n",
    "        freq = random.random() * maxfreq\n",
    "        pdur = random.expovariate(1)\n",
    "        while pdur > 1000 / freq / 2 or pdur < 0.01 or pdur > 100:\n",
    "            pdur = random.expovariate(1)\n",
    "        stim[elec] = BiphasicPulseTrain(freq, amp, pdur, stim_dur=1000)\n",
    "    stimulus = Stimulus(stim)\n",
    "    return stimulus\n"
   ]
  },
  {
   "cell_type": "code",
   "execution_count": 34,
   "metadata": {},
   "outputs": [],
   "source": [
    "def time_constant(model, implant, n_elecs=1, n_samples=10, stim_func=rand_stim, verbose=True):\n",
    "    total_time = 0\n",
    "    for i in range(n_samples):\n",
    "        try:\n",
    "            stim = stim_func(implant, n_electrodes=n_elecs)\n",
    "            implant.stim = stim\n",
    "            start = time.time()\n",
    "            percept = model.predict_percept(implant)\n",
    "            end = time.time()\n",
    "            total_time += end - start\n",
    "        except Exception as e:\n",
    "            print(e)\n",
    "            print((freq, amp, pdur))\n",
    "            continue\n",
    "    if verbose:\n",
    "        print(\"Average prediction time (%d electrodes): %.0fms\" % (n_elecs, total_time / n_samples * 1000))\n",
    "        print(\"Average prediction time per electrode: %.0fms\" % (total_time / n_samples * 1000 / n_elecs))\n",
    "    return total_time / n_samples * 1000"
   ]
  },
  {
   "cell_type": "code",
   "execution_count": 37,
   "metadata": {},
   "outputs": [],
   "source": [
    "def time_random(model, implant, max_elecs=30, n_samples=20, stim_func=rand_stim, plot=False):\n",
    "    times = []\n",
    "    elec_counts = []\n",
    "    for i in range(n_samples):\n",
    "        try:\n",
    "            n_elecs = random.randint(1, max_elecs)\n",
    "            stim = stim_func(implant, n_electrodes=n_elecs)\n",
    "            implant.stim = stim\n",
    "            start = time.time()\n",
    "            percept = model.predict_percept(implant)\n",
    "            end = time.time()\n",
    "            times.append(end - start)\n",
    "            elec_counts.append(n_elecs)\n",
    "        except ValueError as e:\n",
    "            print(e)\n",
    "            continue\n",
    "    print(\"Average prediction time (%d electrodes): %.0fms\" % (n_elecs, sum(times) / n_samples * 1000))\n",
    "    print(\"Average prediction time per electrode: %.0fms\" % (sum(times) / sum(elec_counts) * 1000))\n",
    "    \n",
    "    if plot:\n",
    "        plt.scatter(elec_counts, times, t)\n",
    "        plt.title(\"Prediction Time vs Electrode Count\")\n",
    "    \n",
    "    return sum(times) / n_samples * 1000\n",
    "    "
   ]
  },
  {
   "cell_type": "markdown",
   "metadata": {},
   "source": [
    "## Testing"
   ]
  },
  {
   "cell_type": "code",
   "execution_count": 26,
   "metadata": {},
   "outputs": [],
   "source": [
    "from pulse2percept.models import AxonMapModel\n",
    "from pulse2percept.implants import ArgusII, DiskElectrode, ProsthesisSystem\n",
    "from pulse2percept.stimuli import BiphasicPulseTrain\n",
    "\n",
    "import numpy as np\n",
    "import matplotlib.pyplot as plt"
   ]
  },
  {
   "cell_type": "markdown",
   "metadata": {},
   "source": [
    "### Original (Serial, variable length axons)"
   ]
  },
  {
   "cell_type": "markdown",
   "metadata": {},
   "source": [
    "#### Axon Map"
   ]
  },
  {
   "cell_type": "code",
   "execution_count": 29,
   "metadata": {},
   "outputs": [],
   "source": [
    "model = AxonMapModel(engine='cython')\n",
    "model.build()\n",
    "implant = ArgusII(rot=45)"
   ]
  },
  {
   "cell_type": "code",
   "execution_count": 30,
   "metadata": {},
   "outputs": [
    {
     "name": "stdout",
     "output_type": "stream",
     "text": [
      "Average prediction time (1 electrodes): 320ms\n",
      "Average prediction time per electrode: 320ms\n",
      "Average prediction time (15 electrodes): 16750ms\n",
      "Average prediction time per electrode: 1117ms\n"
     ]
    },
    {
     "data": {
      "text/plain": [
       "16749.55105781555"
      ]
     },
     "execution_count": 30,
     "metadata": {},
     "output_type": "execute_result"
    }
   ],
   "source": [
    "time_constant(model, implant, n_elecs=1, n_samples=20)\n",
    "time_constant(model, implant, n_elecs=15, n_samples=2)"
   ]
  },
  {
   "cell_type": "code",
   "execution_count": null,
   "metadata": {},
   "outputs": [
    {
     "name": "stdout",
     "output_type": "stream",
     "text": [
      "Done with 1 elecs\n"
     ]
    }
   ],
   "source": [
    "xysteps = [1, 0.5, 0.25, 0.175, 0.125]\n",
    "fig, axes = plt.subplots(2,1, figsize=(15, 15))\n",
    "for n_elecs, ax in zip([1, 15], axes):\n",
    "    \n",
    "    times = []\n",
    "    n_points = []\n",
    "    sizes = []\n",
    "    for step in xysteps:\n",
    "        model = AxonMapModel(xystep=step, xrange=(-15, 15), yrange=(-15, 15))\n",
    "        model.build()\n",
    "        implant = ArgusII(rot=45)\n",
    "        times.append(time_constant(model, implant, n_samples=1, n_elecs=n_elecs, verbose=False))\n",
    "        sizes.append((len(model.grid.xret), len(model.grid.yret)))\n",
    "        n_points.append(len(model.grid.xret) * len(model.grid.yret))\n",
    "    print(\"Done with %d elecs\" % (n_elecs))\n",
    "    ax.plot(n_points, times, label=str(n_elecs))\n",
    "    ax.set_xticks(n_points)\n",
    "    ax.set_xticklabels([str(n_points[i]) + \":\" + str(sizes[i]) for i in range(len(sizes))])\n",
    "    ax.set_xlabel(\"Grid Size\")\n",
    "    ax.set_ylabel(\"Average Prediction Time\")\n",
    "    ax.set_title(\"Prediction Time vs Grid Size\")\n",
    "    \n",
    "fig.show()\n",
    "    "
   ]
  },
  {
   "cell_type": "code",
   "execution_count": null,
   "metadata": {},
   "outputs": [],
   "source": [
    "n_elecs = np.arange(1, 60, 3)\n",
    "fig, ax = plt.subplots(1, 1, figsize=(10, 10))\n",
    "times = []\n",
    "model = AxonMapModel(xystep=step, xrange=(-15, 15), yrange=(-15, 15))\n",
    "model.build()\n",
    "implant = ArgusII(rot=45)\n",
    "for n_elecs in n_elecs:\n",
    "    times.append(time_constant(model, implant, n_samples=1, n_elecs=n_elecs, verbose=False)\n",
    "ax.plot(n_elecs, times)\n",
    "ax.set_xlabel(\"Number of Active Electrodes\")\n",
    "ax.set_ylabel(\"Average Prediction Time\")\n",
    "ax.set_title(\"Prediction Time vs Number of Electrodes\")\n",
    "    \n",
    "fig.show()\n",
    "    "
   ]
  },
  {
   "cell_type": "markdown",
   "metadata": {},
   "source": [
    "#### Biphasic Axon Map"
   ]
  },
  {
   "cell_type": "code",
   "execution_count": null,
   "metadata": {},
   "outputs": [],
   "source": [
    "from pulse2percept.models import BiphasicAxonMapModel"
   ]
  },
  {
   "cell_type": "code",
   "execution_count": null,
   "metadata": {},
   "outputs": [],
   "source": [
    "model = BiphasicAxonMapModel()\n",
    "model.build()\n",
    "implant = ArgusII(rot=45)"
   ]
  },
  {
   "cell_type": "code",
   "execution_count": null,
   "metadata": {},
   "outputs": [],
   "source": [
    "time_constant(model, implant, n_elecs=1, n_samples=20)\n",
    "time_constant(model, implant, n_elecs=15, n_samples=2)\n",
    "time_random(model, implant, n_samples=50, plot=True)"
   ]
  },
  {
   "cell_type": "code",
   "execution_count": null,
   "metadata": {},
   "outputs": [],
   "source": [
    "\n",
    "\n"
   ]
  }
 ],
 "metadata": {
  "kernelspec": {
   "display_name": "Python 3",
   "language": "python",
   "name": "python3"
  },
  "language_info": {
   "codemirror_mode": {
    "name": "ipython",
    "version": 3
   },
   "file_extension": ".py",
   "mimetype": "text/x-python",
   "name": "python",
   "nbconvert_exporter": "python",
   "pygments_lexer": "ipython3",
   "version": "3.6.9"
  }
 },
 "nbformat": 4,
 "nbformat_minor": 4
}
